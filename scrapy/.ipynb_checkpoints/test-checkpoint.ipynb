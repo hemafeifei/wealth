{
 "cells": [
  {
   "cell_type": "markdown",
   "metadata": {},
   "source": [
    "## 1 UT"
   ]
  },
  {
   "cell_type": "code",
   "execution_count": 22,
   "metadata": {
    "collapsed": true
   },
   "outputs": [],
   "source": [
    "import pandas as pd\n",
    "import numpy as np\n",
    "# from urllib.request import urlopen\n",
    "from bs4 import BeautifulSoup\n",
    "from selenium import webdriver\n",
    "from datetime import datetime, timedelta\n",
    "import pytz"
   ]
  },
  {
   "cell_type": "code",
   "execution_count": 4,
   "metadata": {
    "collapsed": true
   },
   "outputs": [],
   "source": [
    "\n",
    "chrome_path = '/Users/weizheng/PycharmProjects/tickets/chromedriver'\n",
    "\n",
    "\n",
    "# url = 'https://danjuanapp.com/djmodule/value-center?channel=1300100141'\n",
    "url = 'https://markets.businessinsider.com/indices'\n",
    "today = str(datetime.now())[:10]\n",
    "\n",
    "def get_soup_eng_pr(url):\n",
    "    driver = webdriver.Chrome(executable_path=chrome_path)\n",
    "    # driver = webdriver.Firefox(executable_path=firefox_path)\n",
    "    driver.get(url)\n",
    "    html = driver.page_source\n",
    "    soup = BeautifulSoup(html, 'lxml')\n",
    "    driver.close()\n",
    "    return soup\n",
    "\n",
    "# soup = get_soup_eng_pr(url)"
   ]
  },
  {
   "cell_type": "code",
   "execution_count": 6,
   "metadata": {
    "collapsed": false
   },
   "outputs": [],
   "source": [
    "table = soup.find('table', {'class':'table instruments'})"
   ]
  },
  {
   "cell_type": "code",
   "execution_count": 97,
   "metadata": {
    "collapsed": true
   },
   "outputs": [],
   "source": [
    "cols = ['index_name', 'country', 'close', 'open', 'change', 'change_pct',\n",
    "       'tm_raw', 'dt_raw', 'change_3mth', 'change_6mth', 'change_ytd', 'change_12mth']\n",
    "def get_global_idx(url):\n",
    "    soup = get_soup_eng_pr(url)\n",
    "    table = soup.find('table', {'class':'table instruments'})\n",
    "    result_table = []\n",
    "    for tr in table.find_all('tr'):\n",
    "        if len(tr.find_all('td')) > 0:\n",
    "            row = []\n",
    "            for td in tr.find_all('td'):\n",
    "                txt = td.get_text().strip()\n",
    "                element = txt.split('\\n')\n",
    "                row.extend(element)\n",
    "            result_table.append(row)\n",
    "    df = pd.DataFrame(result_table, columns=cols)\n",
    "    df['updated'] = today\n",
    "    df['std_workday'] = workday_utc0\n",
    "    df = df.drop(['tm_raw', 'dt_raw'], axis=1)\n",
    "    print(df.shape)\n",
    "    df = df.loc[df['index_name'].isin(['Dow Jones', 'NASDAQ 100', 'S&P 500', 'FTSE 100', 'DAX', 'CAC 40',\n",
    "                    'NIKKEI 225', 'Hang Seng', 'Shanghai Composite'])].reset_index(drop=True)\n",
    "    print(df.shape)\n",
    "    return df"
   ]
  },
  {
   "cell_type": "code",
   "execution_count": 98,
   "metadata": {
    "collapsed": false
   },
   "outputs": [
    {
     "name": "stdout",
     "output_type": "stream",
     "text": [
      "(44, 12)\n",
      "(9, 12)\n"
     ]
    }
   ],
   "source": [
    "url = 'https://markets.businessinsider.com/indices'\n",
    "today = str(datetime.now())[:16]\n",
    "workday_utc0 = str(datetime.now() - timedelta(hours=24))[:10]\n",
    "df = get_global_idx(url)"
   ]
  },
  {
   "cell_type": "code",
   "execution_count": 99,
   "metadata": {
    "collapsed": false
   },
   "outputs": [
    {
     "data": {
      "text/html": [
       "<div>\n",
       "<style>\n",
       "    .dataframe thead tr:only-child th {\n",
       "        text-align: right;\n",
       "    }\n",
       "\n",
       "    .dataframe thead th {\n",
       "        text-align: left;\n",
       "    }\n",
       "\n",
       "    .dataframe tbody tr th {\n",
       "        vertical-align: top;\n",
       "    }\n",
       "</style>\n",
       "<table border=\"1\" class=\"dataframe\">\n",
       "  <thead>\n",
       "    <tr style=\"text-align: right;\">\n",
       "      <th></th>\n",
       "      <th>index_name</th>\n",
       "      <th>country</th>\n",
       "      <th>close</th>\n",
       "      <th>open</th>\n",
       "      <th>change</th>\n",
       "      <th>change_pct</th>\n",
       "      <th>change_3mth</th>\n",
       "      <th>change_6mth</th>\n",
       "      <th>change_ytd</th>\n",
       "      <th>change_12mth</th>\n",
       "      <th>updated</th>\n",
       "      <th>std_workday</th>\n",
       "    </tr>\n",
       "  </thead>\n",
       "  <tbody>\n",
       "    <tr>\n",
       "      <th>0</th>\n",
       "      <td>Dow Jones</td>\n",
       "      <td>USA</td>\n",
       "      <td>26,287.44</td>\n",
       "      <td>26,378.19</td>\n",
       "      <td>-90.75</td>\n",
       "      <td>-0.34%</td>\n",
       "      <td>1.78%</td>\n",
       "      <td>4.93%</td>\n",
       "      <td>12.6%</td>\n",
       "      <td>3.05%</td>\n",
       "      <td>2019-08-10 15:36</td>\n",
       "      <td>2019-08-09</td>\n",
       "    </tr>\n",
       "    <tr>\n",
       "      <th>1</th>\n",
       "      <td>NASDAQ 100</td>\n",
       "      <td>USA</td>\n",
       "      <td>7,646.27</td>\n",
       "      <td>7,724.83</td>\n",
       "      <td>-78.56</td>\n",
       "      <td>-1.02%</td>\n",
       "      <td>0.84%</td>\n",
       "      <td>10.67%</td>\n",
       "      <td>20.21%</td>\n",
       "      <td>2.4%</td>\n",
       "      <td>2019-08-10 15:36</td>\n",
       "      <td>2019-08-09</td>\n",
       "    </tr>\n",
       "    <tr>\n",
       "      <th>2</th>\n",
       "      <td>S&amp;P 500</td>\n",
       "      <td>USA</td>\n",
       "      <td>2,918.65</td>\n",
       "      <td>2,938.09</td>\n",
       "      <td>-19.44</td>\n",
       "      <td>-0.66%</td>\n",
       "      <td>1.67%</td>\n",
       "      <td>7.71%</td>\n",
       "      <td>16.28%</td>\n",
       "      <td>2.28%</td>\n",
       "      <td>2019-08-10 15:36</td>\n",
       "      <td>2019-08-09</td>\n",
       "    </tr>\n",
       "    <tr>\n",
       "      <th>3</th>\n",
       "      <td>DAX</td>\n",
       "      <td>Germany</td>\n",
       "      <td>11,693.80</td>\n",
       "      <td>11,845.41</td>\n",
       "      <td>-151.61</td>\n",
       "      <td>-1.28%</td>\n",
       "      <td>-2.34%</td>\n",
       "      <td>6.17%</td>\n",
       "      <td>10.53%</td>\n",
       "      <td>-7.75%</td>\n",
       "      <td>2019-08-10 15:36</td>\n",
       "      <td>2019-08-09</td>\n",
       "    </tr>\n",
       "    <tr>\n",
       "      <th>4</th>\n",
       "      <td>CAC 40</td>\n",
       "      <td>France</td>\n",
       "      <td>5,327.92</td>\n",
       "      <td>5,387.96</td>\n",
       "      <td>-60.04</td>\n",
       "      <td>-1.11%</td>\n",
       "      <td>0.28%</td>\n",
       "      <td>6.25%</td>\n",
       "      <td>13.62%</td>\n",
       "      <td>-3.17%</td>\n",
       "      <td>2019-08-10 15:36</td>\n",
       "      <td>2019-08-09</td>\n",
       "    </tr>\n",
       "    <tr>\n",
       "      <th>5</th>\n",
       "      <td>FTSE 100</td>\n",
       "      <td>Great Britain</td>\n",
       "      <td>7,253.85</td>\n",
       "      <td>7,285.90</td>\n",
       "      <td>-32.05</td>\n",
       "      <td>-0.44%</td>\n",
       "      <td>0.64%</td>\n",
       "      <td>1.75%</td>\n",
       "      <td>7.72%</td>\n",
       "      <td>-6.3%</td>\n",
       "      <td>2019-08-10 15:36</td>\n",
       "      <td>2019-08-09</td>\n",
       "    </tr>\n",
       "    <tr>\n",
       "      <th>6</th>\n",
       "      <td>Hang Seng</td>\n",
       "      <td>Hong Kong</td>\n",
       "      <td>25,939.30</td>\n",
       "      <td>26,120.77</td>\n",
       "      <td>-181.47</td>\n",
       "      <td>-0.69%</td>\n",
       "      <td>-8.38%</td>\n",
       "      <td>-7.83%</td>\n",
       "      <td>3.22%</td>\n",
       "      <td>-9.33%</td>\n",
       "      <td>2019-08-10 15:36</td>\n",
       "      <td>2019-08-09</td>\n",
       "    </tr>\n",
       "    <tr>\n",
       "      <th>7</th>\n",
       "      <td>NIKKEI 225</td>\n",
       "      <td>Japan</td>\n",
       "      <td>20,684.82</td>\n",
       "      <td>20,593.35</td>\n",
       "      <td>91.47</td>\n",
       "      <td>0.44%</td>\n",
       "      <td>-3.35%</td>\n",
       "      <td>-0.86%</td>\n",
       "      <td>5.74%</td>\n",
       "      <td>-8.47%</td>\n",
       "      <td>2019-08-10 15:36</td>\n",
       "      <td>2019-08-09</td>\n",
       "    </tr>\n",
       "    <tr>\n",
       "      <th>8</th>\n",
       "      <td>Shanghai Composite</td>\n",
       "      <td>China</td>\n",
       "      <td>2,794.55</td>\n",
       "      <td>2,768.68</td>\n",
       "      <td>25.87</td>\n",
       "      <td>0.93%</td>\n",
       "      <td>-3.43%</td>\n",
       "      <td>5.3%</td>\n",
       "      <td>13.36%</td>\n",
       "      <td>1.84%</td>\n",
       "      <td>2019-08-10 15:36</td>\n",
       "      <td>2019-08-09</td>\n",
       "    </tr>\n",
       "  </tbody>\n",
       "</table>\n",
       "</div>"
      ],
      "text/plain": [
       "           index_name        country      close       open   change  \\\n",
       "0           Dow Jones            USA  26,287.44  26,378.19   -90.75   \n",
       "1          NASDAQ 100            USA   7,646.27   7,724.83   -78.56   \n",
       "2             S&P 500            USA   2,918.65   2,938.09   -19.44   \n",
       "3                 DAX        Germany  11,693.80  11,845.41  -151.61   \n",
       "4              CAC 40         France   5,327.92   5,387.96   -60.04   \n",
       "5            FTSE 100  Great Britain   7,253.85   7,285.90   -32.05   \n",
       "6           Hang Seng      Hong Kong  25,939.30  26,120.77  -181.47   \n",
       "7          NIKKEI 225          Japan  20,684.82  20,593.35    91.47   \n",
       "8  Shanghai Composite          China   2,794.55   2,768.68    25.87   \n",
       "\n",
       "  change_pct change_3mth change_6mth change_ytd change_12mth  \\\n",
       "0     -0.34%       1.78%       4.93%      12.6%        3.05%   \n",
       "1     -1.02%       0.84%      10.67%     20.21%         2.4%   \n",
       "2     -0.66%       1.67%       7.71%     16.28%        2.28%   \n",
       "3     -1.28%      -2.34%       6.17%     10.53%       -7.75%   \n",
       "4     -1.11%       0.28%       6.25%     13.62%       -3.17%   \n",
       "5     -0.44%       0.64%       1.75%      7.72%        -6.3%   \n",
       "6     -0.69%      -8.38%      -7.83%      3.22%       -9.33%   \n",
       "7      0.44%      -3.35%      -0.86%      5.74%       -8.47%   \n",
       "8      0.93%      -3.43%        5.3%     13.36%        1.84%   \n",
       "\n",
       "            updated std_workday  \n",
       "0  2019-08-10 15:36  2019-08-09  \n",
       "1  2019-08-10 15:36  2019-08-09  \n",
       "2  2019-08-10 15:36  2019-08-09  \n",
       "3  2019-08-10 15:36  2019-08-09  \n",
       "4  2019-08-10 15:36  2019-08-09  \n",
       "5  2019-08-10 15:36  2019-08-09  \n",
       "6  2019-08-10 15:36  2019-08-09  \n",
       "7  2019-08-10 15:36  2019-08-09  \n",
       "8  2019-08-10 15:36  2019-08-09  "
      ]
     },
     "execution_count": 99,
     "metadata": {},
     "output_type": "execute_result"
    }
   ],
   "source": [
    "df"
   ]
  },
  {
   "cell_type": "code",
   "execution_count": 83,
   "metadata": {
    "collapsed": false
   },
   "outputs": [
    {
     "data": {
      "text/html": [
       "<div>\n",
       "<style>\n",
       "    .dataframe thead tr:only-child th {\n",
       "        text-align: right;\n",
       "    }\n",
       "\n",
       "    .dataframe thead th {\n",
       "        text-align: left;\n",
       "    }\n",
       "\n",
       "    .dataframe tbody tr th {\n",
       "        vertical-align: top;\n",
       "    }\n",
       "</style>\n",
       "<table border=\"1\" class=\"dataframe\">\n",
       "  <thead>\n",
       "    <tr style=\"text-align: right;\">\n",
       "      <th></th>\n",
       "      <th>index_name</th>\n",
       "      <th>country</th>\n",
       "      <th>close</th>\n",
       "      <th>open</th>\n",
       "      <th>change</th>\n",
       "      <th>change_pct</th>\n",
       "      <th>tm_raw</th>\n",
       "      <th>dt_raw</th>\n",
       "      <th>change_3mth</th>\n",
       "      <th>change_6mth</th>\n",
       "      <th>change_ytd</th>\n",
       "      <th>change_12mth</th>\n",
       "    </tr>\n",
       "  </thead>\n",
       "  <tbody>\n",
       "    <tr>\n",
       "      <th>39</th>\n",
       "      <td>Australia All Ordinaries</td>\n",
       "      <td>Australia</td>\n",
       "      <td>6,663.40</td>\n",
       "      <td>6,642.30</td>\n",
       "      <td>21.1</td>\n",
       "      <td>0.32%</td>\n",
       "      <td>02:11:35 AM08/09/2019 02:11:35 AM UTC-0400</td>\n",
       "      <td>8/9/2019</td>\n",
       "      <td>4.49%</td>\n",
       "      <td>8.73%</td>\n",
       "      <td>18.45%</td>\n",
       "      <td>4.38%</td>\n",
       "    </tr>\n",
       "    <tr>\n",
       "      <th>40</th>\n",
       "      <td>Hang Seng</td>\n",
       "      <td>Hong Kong</td>\n",
       "      <td>25,939.30</td>\n",
       "      <td>26,120.77</td>\n",
       "      <td>-181.47</td>\n",
       "      <td>-0.69%</td>\n",
       "      <td>04:09:14 AM08/09/2019 04:09:14 AM UTC-0400</td>\n",
       "      <td>8/9/2019</td>\n",
       "      <td>-8.38%</td>\n",
       "      <td>-7.83%</td>\n",
       "      <td>3.22%</td>\n",
       "      <td>-9.33%</td>\n",
       "    </tr>\n",
       "    <tr>\n",
       "      <th>41</th>\n",
       "      <td>KOSPI</td>\n",
       "      <td>Republic of Korea</td>\n",
       "      <td>1,920.61</td>\n",
       "      <td>1,909.71</td>\n",
       "      <td>10.9</td>\n",
       "      <td>0.57%</td>\n",
       "      <td>05:03:40 AM08/08/2019 05:03:40 AM UTC-0400</td>\n",
       "      <td>8/8/2019</td>\n",
       "      <td>-11.41%</td>\n",
       "      <td>-11.78%</td>\n",
       "      <td>-4.45%</td>\n",
       "      <td>-16.55%</td>\n",
       "    </tr>\n",
       "    <tr>\n",
       "      <th>42</th>\n",
       "      <td>NIKKEI 225</td>\n",
       "      <td>Japan</td>\n",
       "      <td>20,684.82</td>\n",
       "      <td>20,593.35</td>\n",
       "      <td>91.47</td>\n",
       "      <td>0.44%</td>\n",
       "      <td>02:15:02 AM08/09/2019 02:15:02 AM UTC-0400</td>\n",
       "      <td>8/9/2019</td>\n",
       "      <td>-3.35%</td>\n",
       "      <td>-0.86%</td>\n",
       "      <td>5.74%</td>\n",
       "      <td>-8.47%</td>\n",
       "    </tr>\n",
       "    <tr>\n",
       "      <th>43</th>\n",
       "      <td>Shanghai Composite</td>\n",
       "      <td>China</td>\n",
       "      <td>2,794.55</td>\n",
       "      <td>2,768.68</td>\n",
       "      <td>25.87</td>\n",
       "      <td>0.93%</td>\n",
       "      <td>03:59:18 AM08/08/2019 03:59:18 AM UTC-0400</td>\n",
       "      <td>8/8/2019</td>\n",
       "      <td>-3.43%</td>\n",
       "      <td>5.3%</td>\n",
       "      <td>13.36%</td>\n",
       "      <td>1.84%</td>\n",
       "    </tr>\n",
       "  </tbody>\n",
       "</table>\n",
       "</div>"
      ],
      "text/plain": [
       "                  index_name            country      close       open  \\\n",
       "39  Australia All Ordinaries          Australia   6,663.40   6,642.30   \n",
       "40                 Hang Seng          Hong Kong  25,939.30  26,120.77   \n",
       "41                     KOSPI  Republic of Korea   1,920.61   1,909.71   \n",
       "42                NIKKEI 225              Japan  20,684.82  20,593.35   \n",
       "43        Shanghai Composite              China   2,794.55   2,768.68   \n",
       "\n",
       "     change change_pct                                      tm_raw    dt_raw  \\\n",
       "39     21.1      0.32%  02:11:35 AM08/09/2019 02:11:35 AM UTC-0400  8/9/2019   \n",
       "40  -181.47     -0.69%  04:09:14 AM08/09/2019 04:09:14 AM UTC-0400  8/9/2019   \n",
       "41     10.9      0.57%  05:03:40 AM08/08/2019 05:03:40 AM UTC-0400  8/8/2019   \n",
       "42    91.47      0.44%  02:15:02 AM08/09/2019 02:15:02 AM UTC-0400  8/9/2019   \n",
       "43    25.87      0.93%  03:59:18 AM08/08/2019 03:59:18 AM UTC-0400  8/8/2019   \n",
       "\n",
       "   change_3mth change_6mth change_ytd change_12mth  \n",
       "39       4.49%       8.73%     18.45%        4.38%  \n",
       "40      -8.38%      -7.83%      3.22%       -9.33%  \n",
       "41     -11.41%     -11.78%     -4.45%      -16.55%  \n",
       "42      -3.35%      -0.86%      5.74%       -8.47%  \n",
       "43      -3.43%        5.3%     13.36%        1.84%  "
      ]
     },
     "execution_count": 83,
     "metadata": {},
     "output_type": "execute_result"
    }
   ],
   "source": [
    "df = pd.DataFrame(result_table, columns=cols)\n",
    "df.tail()"
   ]
  },
  {
   "cell_type": "code",
   "execution_count": 70,
   "metadata": {
    "collapsed": true
   },
   "outputs": [],
   "source": [
    "df['tm_raw'] = pd.to_datetime(df['tm_raw'], utc=True)"
   ]
  },
  {
   "cell_type": "code",
   "execution_count": 71,
   "metadata": {
    "collapsed": false
   },
   "outputs": [],
   "source": [
    "# pd.to_datetime('08/08/2019 03:59:18 AM UTC+3600')"
   ]
  },
  {
   "cell_type": "code",
   "execution_count": 86,
   "metadata": {
    "collapsed": false
   },
   "outputs": [
    {
     "data": {
      "text/plain": [
       "array(['The Global Dow', 'Dow Jones', 'NASDAQ 100', 'NASDAQ Comp.',\n",
       "       'NYSE International 100', 'NYSE US 100', 'Russell 2000', 'S&P 500',\n",
       "       'IPC', 'S&P/TSX', 'VIX', 'U.S. Dollar Index', 'DAX', 'DivDAX',\n",
       "       'MDAX', 'TecDAX', 'AEX', 'CAC 40', 'FTSE 100', 'IBEX 35', 'OMXS30',\n",
       "       'SMI', 'BOVESPA', 'BSX', 'IGPA', 'IBC', 'BVQ', 'BET', 'BUX',\n",
       "       'ISE 100', 'PX', 'RTS', 'RTX USD', 'SAX', 'WIG 20', 'EGX30',\n",
       "       'KSE 100', 'NSE 20', 'TEPIX', 'Australia All Ordinaries',\n",
       "       'Hang Seng', 'KOSPI', 'NIKKEI 225', 'Shanghai Composite'], dtype=object)"
      ]
     },
     "execution_count": 86,
     "metadata": {},
     "output_type": "execute_result"
    }
   ],
   "source": [
    "df['index_name'].values"
   ]
  },
  {
   "cell_type": "code",
   "execution_count": null,
   "metadata": {
    "collapsed": true
   },
   "outputs": [],
   "source": [
    "['Dow Jones', 'NASDAQ 100', 'S&P 500', 'FTSE 100', 'DAX', 'CAC 40', \n",
    "'NIKKEI 225', 'Hang Seng', 'Shanghai Composite']"
   ]
  },
  {
   "cell_type": "code",
   "execution_count": 80,
   "metadata": {
    "collapsed": false
   },
   "outputs": [
    {
     "data": {
      "text/plain": [
       "'2019-08-10 15:14'"
      ]
     },
     "execution_count": 80,
     "metadata": {},
     "output_type": "execute_result"
    }
   ],
   "source": [
    "str(datetime.now())[:16]"
   ]
  },
  {
   "cell_type": "code",
   "execution_count": 58,
   "metadata": {
    "collapsed": false
   },
   "outputs": [
    {
     "data": {
      "text/plain": [
       "Timestamp('2019-08-09 13:16:02+0000', tz='UTC')"
      ]
     },
     "execution_count": 58,
     "metadata": {},
     "output_type": "execute_result"
    }
   ],
   "source": [
    "pytz.utc.localize(df['tm_raw'][2])"
   ]
  },
  {
   "cell_type": "code",
   "execution_count": 60,
   "metadata": {
    "collapsed": false
   },
   "outputs": [
    {
     "data": {
      "text/plain": [
       "0    2019-08-09 21:47:36+08:00\n",
       "1    2019-08-09 21:04:59+08:00\n",
       "2    2019-08-09 21:16:02+08:00\n",
       "3    2019-08-09 21:16:02+08:00\n",
       "4    2019-08-08 23:15:17+08:00\n",
       "5    2019-08-08 23:15:17+08:00\n",
       "6    2019-08-09 21:25:35+08:00\n",
       "7    2019-08-09 21:04:59+08:00\n",
       "8    2019-08-08 20:16:00+08:00\n",
       "9    2019-08-08 20:36:58+08:00\n",
       "10   2019-08-09 20:14:45+08:00\n",
       "11   2019-08-09 21:33:55+08:00\n",
       "12   2019-08-09 15:45:00+08:00\n",
       "13   2019-08-09 15:45:00+08:00\n",
       "14   2019-08-09 15:45:00+08:00\n",
       "15   2019-08-09 15:45:00+08:00\n",
       "16   2019-08-09 16:05:02+08:00\n",
       "17   2019-08-09 16:05:01+08:00\n",
       "18   2019-08-09 15:35:30+08:00\n",
       "19   2019-08-08 15:38:00+08:00\n",
       "20   2019-08-09 15:35:01+08:00\n",
       "21   2019-08-09 15:30:43+08:00\n",
       "22   2019-08-09 20:20:59+08:00\n",
       "23   2019-08-09 21:12:54+08:00\n",
       "24   2019-08-09 23:01:56+08:00\n",
       "25   2019-08-08 17:03:22+08:00\n",
       "26   2019-08-08 05:58:16+08:00\n",
       "27   2019-08-08 14:50:00+08:00\n",
       "28   2019-08-09 15:25:00+08:00\n",
       "29   2019-08-09 15:05:24+08:00\n",
       "30   2019-08-09 14:35:00+08:00\n",
       "31   2019-08-09 15:50:00+08:00\n",
       "32   2019-08-09 15:51:21+08:00\n",
       "33   2019-08-09 15:00:55+08:00\n",
       "34   2019-08-09 14:59:45+08:00\n",
       "35   2019-08-08 12:59:53+08:00\n",
       "36   2019-08-08 12:32:04+08:00\n",
       "37   2019-08-08 11:44:38+08:00\n",
       "38   2019-08-07 18:01:38+08:00\n",
       "39   2019-08-09 06:11:35+08:00\n",
       "40   2019-08-09 08:09:14+08:00\n",
       "41   2019-08-08 09:03:40+08:00\n",
       "42   2019-08-09 06:15:02+08:00\n",
       "43   2019-08-08 07:59:18+08:00\n",
       "Name: tm_raw, dtype: datetime64[ns, Asia/Hong_Kong]"
      ]
     },
     "execution_count": 60,
     "metadata": {},
     "output_type": "execute_result"
    }
   ],
   "source": [
    "df['tm_raw'].dt.tz_localize('UTC').dt.tz_convert('Asia/Hong_Kong')"
   ]
  },
  {
   "cell_type": "code",
   "execution_count": 3,
   "metadata": {
    "collapsed": false
   },
   "outputs": [
    {
     "data": {
      "text/plain": [
       "'2019-08-10'"
      ]
     },
     "execution_count": 3,
     "metadata": {},
     "output_type": "execute_result"
    }
   ],
   "source": [
    "str(datetime.now())[:10]"
   ]
  },
  {
   "cell_type": "code",
   "execution_count": 17,
   "metadata": {
    "collapsed": false
   },
   "outputs": [
    {
     "data": {
      "text/plain": [
       "True"
      ]
     },
     "execution_count": 17,
     "metadata": {},
     "output_type": "execute_result"
    }
   ],
   "source": [
    "'2019-06-21'  in soup.find(\"title\").get_text()"
   ]
  },
  {
   "cell_type": "code",
   "execution_count": 20,
   "metadata": {
    "collapsed": false
   },
   "outputs": [],
   "source": [
    "table = soup.find(\"div\", {'class':'out-row'})"
   ]
  },
  {
   "cell_type": "code",
   "execution_count": 24,
   "metadata": {
    "collapsed": false
   },
   "outputs": [
    {
     "data": {
      "text/plain": [
       "<div class=\"out-row\" style=\"height: 176.25rem;\"><a class=\"name bg-low\" href=\"https://danjuanapp.com/funding/501310?channel=1800100001&amp;source=guzhi__web_20171001\" style=\"top: 0rem;\"><div class=\"con\"><h1>标普价值</h1><small>SPACEVCP</small></div><div class=\"color-bar low\"></div></a><a class=\"name bg-low\" href=\"https://danjuanapp.com/funding/090010?channel=1800100001&amp;source=guzhi__web_20171001\" style=\"top: 3.75rem;\"><div class=\"con\"><h1>中证红利</h1><small>SH000922</small></div><div class=\"color-bar low\"></div></a><a class=\"name bg-low\" href=\"https://danjuanapp.com/funding/006255?channel=1800100001&amp;source=guzhi__web_20171001\" style=\"top: 7.5rem;\"><div class=\"con\"><h1>神奇公式</h1><small>CSI930949</small></div><div class=\"color-bar low\"></div></a><a class=\"name bg-low\" href=\"https://danjuanapp.com/funding/501029?channel=1800100001&amp;source=guzhi__web_20171001\" style=\"top: 11.25rem;\"><div class=\"con\"><h1>标普红利</h1><small>CSPSADRP</small></div><div class=\"color-bar low\"></div></a><a class=\"name bg-low\" href=\"https://danjuanapp.com/funding/070023?channel=1800100001&amp;source=guzhi__web_20171001\" style=\"top: 15rem;\"><div class=\"con\"><h1>基本面120</h1><small>SZ399702</small></div><div class=\"color-bar low\"></div></a><a class=\"name bg-mid\" href=\"https://danjuanapp.com/funding/240019?channel=1800100001&amp;source=guzhi__web_20171001\" style=\"top: 18.75rem;\"><div class=\"con\"><h1>中证银行</h1><small>SZ399986</small></div><div class=\"color-bar mid\"></div></a><a class=\"name bg-mid\" href=\"https://danjuanapp.com/funding/005279?channel=1800100001&amp;source=guzhi__web_20171001\" style=\"top: 22.5rem;\"><div class=\"con\"><h1>红利低波</h1><small>CSIH30269</small></div><div class=\"color-bar mid\"></div></a><a class=\"name bg-mid\" href=\"\" style=\"top: 26.25rem;\"><div class=\"con\"><h1>上证红利</h1><small>SH000015</small></div><div class=\"color-bar mid\"></div></a><a class=\"name bg-mid\" href=\"https://danjuanapp.com/funding/310398?channel=1800100001&amp;source=guzhi__web_20171001\" style=\"top: 30rem;\"><div class=\"con\"><h1>300价值</h1><small>SH000919</small></div><div class=\"color-bar mid\"></div></a><a class=\"name bg-mid\" href=\"https://danjuanapp.com/funding/501301?channel=1800100001&amp;source=guzhi__web_20171001\" style=\"top: 33.75rem;\"><div class=\"con\"><h1>香港大盘</h1><small>HSFML25</small></div><div class=\"color-bar mid\"></div></a><a class=\"name bg-mid\" href=\"https://danjuanapp.com/funding/160717?channel=1800100001&amp;source=guzhi__web_20171001\" style=\"top: 37.5rem;\"><div class=\"con\"><h1>国企指数</h1><small>HKHSCEI</small></div><div class=\"color-bar mid\"></div></a><a class=\"name bg-mid\" href=\"https://danjuanapp.com/funding/165312?channel=1800100001&amp;source=guzhi__web_20171001\" style=\"top: 41.25rem;\"><div class=\"con\"><h1>央视50</h1><small>SZ399550</small></div><div class=\"color-bar mid\"></div></a><a class=\"name bg-mid\" href=\"https://danjuanapp.com/funding/160716?channel=1800100001&amp;source=guzhi__web_20171001\" style=\"top: 45rem;\"><div class=\"con\"><h1>基本面50</h1><small>SH000925</small></div><div class=\"color-bar mid\"></div></a><a class=\"name bg-mid\" href=\"https://danjuanapp.com/funding/110003?channel=1800100001&amp;source=guzhi__web_20171001\" style=\"top: 48.75rem;\"><div class=\"con\"><h1>上证50</h1><small>SH000016</small></div><div class=\"color-bar mid\"></div></a><a class=\"name bg-mid\" href=\"https://danjuanapp.com/funding/000071?channel=1800100001&amp;source=guzhi__web_20171001\" style=\"top: 52.5rem;\"><div class=\"con\"><h1>恒生指数</h1><small>HKHSI</small></div><div class=\"color-bar mid\"></div></a><a class=\"name bg-mid\" href=\"https://danjuanapp.com/funding/040180?channel=1800100001&amp;source=guzhi__web_20171001\" style=\"top: 56.25rem;\"><div class=\"con\"><h1>上证180</h1><small>SH000010</small></div><div class=\"color-bar mid\"></div></a><a class=\"name bg-mid\" href=\"https://danjuanapp.com/funding/240014?channel=1800100001&amp;source=guzhi__web_20171001\" style=\"top: 60rem;\"><div class=\"con\"><h1>中证100</h1><small>SH000903</small></div><div class=\"color-bar mid\"></div></a><a class=\"name bg-mid\" href=\"https://danjuanapp.com/funding/501021?channel=1800100001&amp;source=guzhi__web_20171001\" style=\"top: 63.75rem;\"><div class=\"con\"><h1>香港中小</h1><small>SPHCMSHP</small></div><div class=\"color-bar mid\"></div></a><a class=\"name bg-mid\" href=\"https://danjuanapp.com/funding/100038?channel=1800100001&amp;source=guzhi__web_20171001\" style=\"top: 67.5rem;\"><div class=\"con\"><h1>沪深300</h1><small>SH000300</small></div><div class=\"color-bar mid\"></div></a><a class=\"name bg-mid\" href=\"https://danjuanapp.com/funding/530015?channel=1800100001&amp;source=guzhi__web_20171001\" style=\"top: 71.25rem;\"><div class=\"con\"><h1>基本面60</h1><small>SZ399701</small></div><div class=\"color-bar mid\"></div></a><a class=\"name bg-mid\" href=\"https://danjuanapp.com/funding/481012?channel=1800100001&amp;source=guzhi__web_20171001\" style=\"top: 75rem;\"><div class=\"con\"><h1>深证红利</h1><small>SZ399324</small></div><div class=\"color-bar mid\"></div></a><a class=\"name bg-mid\" href=\"https://danjuanapp.com/funding/005414?channel=1800100001&amp;source=guzhi__web_20171001\" style=\"top: 78.75rem;\"><div class=\"con\"><h1>国证A指</h1><small>SZ399317</small></div><div class=\"color-bar mid\"></div></a><a class=\"name bg-mid\" href=\"https://danjuanapp.com/funding/217016?channel=1800100001&amp;source=guzhi__web_20171001\" style=\"top: 82.5rem;\"><div class=\"con\"><h1>深证100</h1><small>SZ399330</small></div><div class=\"color-bar mid\"></div></a><a class=\"name bg-mid\" href=\"https://danjuanapp.com/funding/096001?channel=1800100001&amp;source=guzhi__web_20171001\" style=\"top: 86.25rem;\"><div class=\"con\"><h1>标普500</h1><small>SP500</small></div><div class=\"color-bar mid\"></div></a><a class=\"name bg-mid\" href=\"https://danjuanapp.com/funding/001064?channel=1800100001&amp;source=guzhi__web_20171001\" style=\"top: 90rem;\"><div class=\"con\"><h1>中证环保</h1><small>SH000827</small></div><div class=\"color-bar mid\"></div></a><a class=\"name bg-mid\" href=\"https://danjuanapp.com/funding/000968?channel=1800100001&amp;source=guzhi__web_20171001\" style=\"top: 93.75rem;\"><div class=\"con\"><h1>养老产业</h1><small>SZ399812</small></div><div class=\"color-bar mid\"></div></a><a class=\"name bg-mid\" href=\"https://danjuanapp.com/funding/163109?channel=1800100001&amp;source=guzhi__web_20171001\" style=\"top: 97.5rem;\"><div class=\"con\"><h1>深证成指</h1><small>SZ399001</small></div><div class=\"color-bar mid\"></div></a><a class=\"name bg-mid\" href=\"https://danjuanapp.com/funding/000478?channel=1800100001&amp;source=guzhi__web_20171001\" style=\"top: 101.25rem;\"><div class=\"con\"><h1>中证500</h1><small>SH000905</small></div><div class=\"color-bar mid\"></div></a><a class=\"name bg-mid\" href=\"https://danjuanapp.com/funding/001550?channel=1800100001&amp;source=guzhi__web_20171001\" style=\"top: 105rem;\"><div class=\"con\"><h1>医药100</h1><small>SH000978</small></div><div class=\"color-bar mid\"></div></a><a class=\"name bg-mid\" href=\"https://danjuanapp.com/funding/001180?channel=1800100001&amp;source=guzhi__web_20171001\" style=\"top: 108.75rem;\"><div class=\"con\"><h1>全指医药</h1><small>SH000991</small></div><div class=\"color-bar mid\"></div></a><a class=\"name bg-mid\" href=\"https://danjuanapp.com/funding/110026?channel=1800100001&amp;source=guzhi__web_20171001\" style=\"top: 112.5rem;\"><div class=\"con\"><h1>创业板</h1><small>SZ399006</small></div><div class=\"color-bar mid\"></div></a><a class=\"name bg-mid\" href=\"https://danjuanapp.com/funding/163115?channel=1800100001&amp;source=guzhi__web_20171001\" style=\"top: 116.25rem;\"><div class=\"con\"><h1>中证军工</h1><small>SZ399967</small></div><div class=\"color-bar mid\"></div></a><a class=\"name bg-high\" href=\"https://danjuanapp.com/funding/164824?channel=1800100001&amp;source=guzhi__web_20171001\" style=\"top: 120rem;\"><div class=\"con\"><h1>MSCI印度</h1><small>935600</small></div><div class=\"color-bar high\"></div></a><a class=\"name bg-high\" href=\"https://danjuanapp.com/funding/160213?channel=1800100001&amp;source=guzhi__web_20171001\" style=\"top: 123.75rem;\"><div class=\"con\"><h1>纳指100</h1><small>NDX</small></div><div class=\"color-bar high\"></div></a><a class=\"name bg-high\" href=\"https://danjuanapp.com/funding/002977?channel=1800100001&amp;source=guzhi__web_20171001\" style=\"top: 127.5rem;\"><div class=\"con\"><h1>全指可选</h1><small>SH000989</small></div><div class=\"color-bar high\"></div></a><a class=\"name bg-high\" href=\"https://danjuanapp.com/funding/160222?channel=1800100001&amp;source=guzhi__web_20171001\" style=\"top: 131.25rem;\"><div class=\"con\"><h1>食品饮料</h1><small>SH000807</small></div><div class=\"color-bar high\"></div></a><a class=\"name bg-high\" href=\"https://danjuanapp.com/funding/006098?channel=1800100001&amp;source=guzhi__web_20171001\" style=\"top: 135rem;\"><div class=\"con\"><h1>证券公司</h1><small>SZ399975</small></div><div class=\"color-bar high\"></div></a><a class=\"name bg-high\" href=\"https://danjuanapp.com/funding/000248?channel=1800100001&amp;source=guzhi__web_20171001\" style=\"top: 138.75rem;\"><div class=\"con\"><h1>主要消费</h1><small>SH000932</small></div><div class=\"color-bar high\"></div></a><a class=\"name bg-high\" href=\"https://danjuanapp.com/funding/002974?channel=1800100001&amp;source=guzhi__web_20171001\" style=\"top: 142.5rem;\"><div class=\"con\"><h1>全指信息</h1><small>SH000993</small></div><div class=\"color-bar high\"></div></a><a class=\"name bg-high\" href=\"https://danjuanapp.com/funding/164906?channel=1800100001&amp;source=guzhi__web_20171001\" style=\"top: 146.25rem;\"><div class=\"con\"><h1>中国互联</h1><small>CSIH11136</small></div><div class=\"color-bar high\"></div></a><a class=\"name bg-unsort\" href=\"https://danjuanapp.com/funding/501050?channel=1800100001&amp;source=guzhi__web_20171001\" style=\"top: 150rem;\"><div class=\"con\"><h1>50AH优选</h1><small>SH000170</small></div><div class=\"color-bar unsort\"></div></a><a class=\"name bg-unsort\" href=\"https://danjuanapp.com/funding/161724?channel=1800100001&amp;source=guzhi__web_20171001\" style=\"top: 153.75rem;\"><div class=\"con\"><h1>中证煤炭</h1><small>SZ399998</small></div><div class=\"color-bar unsort\"></div></a><a class=\"name bg-unsort\" href=\"https://danjuanapp.com/funding/003318?channel=1800100001&amp;source=guzhi__web_20171001\" style=\"top: 157.5rem;\"><div class=\"con\"><h1>500低波</h1><small>CSI930782</small></div><div class=\"color-bar unsort\"></div></a><a class=\"name bg-unsort\" href=\"\" style=\"top: 161.25rem;\"><div class=\"con\"><h1>新能源车</h1><small>SZ399417</small></div><div class=\"color-bar unsort\"></div></a><a class=\"name bg-unsort\" href=\"https://danjuanapp.com/funding/161725?channel=1800100001&amp;source=guzhi__web_20171001\" style=\"top: 165rem;\"><div class=\"con\"><h1>中证白酒</h1><small>SZ399997</small></div><div class=\"color-bar unsort\"></div></a><a class=\"name bg-unsort\" href=\"https://danjuanapp.com/funding/003646?channel=1800100001&amp;source=guzhi__web_20171001\" style=\"top: 168.75rem;\"><div class=\"con\"><h1>中证1000</h1><small>SH000852</small></div><div class=\"color-bar unsort\"></div></a><a class=\"name bg-unsort\" href=\"\" style=\"top: 172.5rem;\"><div class=\"con\"><h1>中概互联50</h1><small>CSIH30533</small></div><div class=\"color-bar unsort\"></div></a><div class=\"in-row\"><a class=\"row normal bg-low\" href=\"https://danjuanapp.com/funding/501310?channel=1800100001&amp;source=guzhi__web_20171001\"><div class=\"pe\">6.91</div><div class=\"pe-per\">9.98%</div><div class=\"pb\">0.73</div><div class=\"pb-per\">0.75%</div><div class=\"dyr\">4.47%</div><div class=\"roe\">10.62%</div><div class=\"begin\">2012-11-30</div><div class=\"buy-btn\"><button>购买</button></div></a><a class=\"row normal bg-low\" href=\"https://danjuanapp.com/funding/090010?channel=1800100001&amp;source=guzhi__web_20171001\"><div class=\"pe\">8.25</div><div class=\"pe-per\">26.91%</div><div class=\"pb\">1.01</div><div class=\"pb-per\">11.57%</div><div class=\"dyr\">4.07%</div><div class=\"roe\">12.22%</div><div class=\"begin\">2009-06-15</div><div class=\"buy-btn\"><button>购买</button></div></a><a class=\"row normal bg-low\" href=\"https://danjuanapp.com/funding/006255?channel=1800100001&amp;source=guzhi__web_20171001\"><div class=\"pe\">9.23</div><div class=\"pe-per\">4.72%</div><div class=\"pb\">1.44</div><div class=\"pb-per\">0.88%</div><div class=\"dyr\">2.75%</div><div class=\"roe\">15.54%</div><div class=\"begin\">2009-03-13</div><div class=\"buy-btn\"><button>购买</button></div></a><a class=\"row normal bg-low\" href=\"https://danjuanapp.com/funding/501029?channel=1800100001&amp;source=guzhi__web_20171001\"><div class=\"pe\">10.80</div><div class=\"pe-per\">25.76%</div><div class=\"pb\">1.37</div><div class=\"pb-per\">15.00%</div><div class=\"dyr\">6.10%</div><div class=\"roe\">12.70%</div><div class=\"begin\">2009-02-16</div><div class=\"buy-btn\"><button>购买</button></div></a><a class=\"row normal bg-low\" href=\"https://danjuanapp.com/funding/070023?channel=1800100001&amp;source=guzhi__web_20171001\"><div class=\"pe\">16.87</div><div class=\"pe-per\">27.52%</div><div class=\"pb\">2.07</div><div class=\"pb-per\">47.40%</div><div class=\"dyr\">1.64%</div><div class=\"roe\">12.29%</div><div class=\"begin\">2012-08-10</div><div class=\"buy-btn\"><button>购买</button></div></a><a class=\"row normal bg-mid\" href=\"https://danjuanapp.com/funding/240019?channel=1800100001&amp;source=guzhi__web_20171001\"><div class=\"pe\">6.92</div><div class=\"pe-per\">76.31%</div><div class=\"pb\">0.82</div><div class=\"pb-per\">8.91%</div><div class=\"dyr\">3.66%</div><div class=\"roe\">11.80%</div><div class=\"begin\">2013-07-16</div><div class=\"buy-btn\"><button>购买</button></div></a><a class=\"row normal bg-mid\" href=\"https://danjuanapp.com/funding/005279?channel=1800100001&amp;source=guzhi__web_20171001\"><div class=\"pe\">7.48</div><div class=\"pe-per\">38.52%</div><div class=\"pb\">0.93</div><div class=\"pb-per\">5.14%</div><div class=\"dyr\">4.02%</div><div class=\"roe\">12.44%</div><div class=\"begin\">2013-12-19</div><div class=\"buy-btn\"><button>购买</button></div></a><a class=\"row normal bg-mid\" href=\"\"><div class=\"pe\">7.70</div><div class=\"pe-per\">37.44%</div><div class=\"pb\">0.92</div><div class=\"pb-per\">6.28%</div><div class=\"dyr\">4.39%</div><div class=\"roe\">11.96%</div><div class=\"begin\">2012-08-08</div><div class=\"buy-btn\"><button>购买</button></div></a><a class=\"row normal bg-mid\" href=\"https://danjuanapp.com/funding/310398?channel=1800100001&amp;source=guzhi__web_20171001\"><div class=\"pe\">8.73</div><div class=\"pe-per\">38.96%</div><div class=\"pb\">1.01</div><div class=\"pb-per\">10.76%</div><div class=\"dyr\">3.49%</div><div class=\"roe\">11.54%</div><div class=\"begin\">2009-03-17</div><div class=\"buy-btn\"><button>购买</button></div></a><a class=\"row normal bg-mid\" href=\"https://danjuanapp.com/funding/501301?channel=1800100001&amp;source=guzhi__web_20171001\"><div class=\"pe\">8.95</div><div class=\"pe-per\">39.99%</div><div class=\"pb\">1.09</div><div class=\"pb-per\">15.96%</div><div class=\"dyr\">3.67%</div><div class=\"roe\">12.17%</div><div class=\"begin\">2009-06-15</div><div class=\"buy-btn\"><button>购买</button></div></a><a class=\"row normal bg-mid\" href=\"https://danjuanapp.com/funding/160717?channel=1800100001&amp;source=guzhi__web_20171001\"><div class=\"pe\">9.00</div><div class=\"pe-per\">63.29%</div><div class=\"pb\">1.05</div><div class=\"pb-per\">29.53%</div><div class=\"dyr\">3.66%</div><div class=\"roe\">11.63%</div><div class=\"begin\">2009-06-15</div><div class=\"buy-btn\"><button>购买</button></div></a><a class=\"row normal bg-mid\" href=\"https://danjuanapp.com/funding/165312?channel=1800100001&amp;source=guzhi__web_20171001\"><div class=\"pe\">9.66</div><div class=\"pe-per\">79.75%</div><div class=\"pb\">1.30</div><div class=\"pb-per\">49.59%</div><div class=\"dyr\">3.04%</div><div class=\"roe\">13.51%</div><div class=\"begin\">2012-06-06</div><div class=\"buy-btn\"><button>购买</button></div></a><a class=\"row normal bg-mid\" href=\"https://danjuanapp.com/funding/160716?channel=1800100001&amp;source=guzhi__web_20171001\"><div class=\"pe\">10.05</div><div class=\"pe-per\">63.33%</div><div class=\"pb\">1.17</div><div class=\"pb-per\">38.31%</div><div class=\"dyr\">2.98%</div><div class=\"roe\">11.61%</div><div class=\"begin\">2009-06-15</div><div class=\"buy-btn\"><button>购买</button></div></a><a class=\"row normal bg-mid\" href=\"https://danjuanapp.com/funding/110003?channel=1800100001&amp;source=guzhi__web_20171001\"><div class=\"pe\">10.19</div><div class=\"pe-per\">43.44%</div><div class=\"pb\">1.17</div><div class=\"pb-per\">19.40%</div><div class=\"dyr\">2.92%</div><div class=\"roe\">11.52%</div><div class=\"begin\">2009-06-15</div><div class=\"buy-btn\"><button>购买</button></div></a><a class=\"row normal bg-mid\" href=\"https://danjuanapp.com/funding/000071?channel=1800100001&amp;source=guzhi__web_20171001\"><div class=\"pe\">10.29</div><div class=\"pe-per\">51.15%</div><div class=\"pb\">1.16</div><div class=\"pb-per\">19.73%</div><div class=\"dyr\">3.69%</div><div class=\"roe\">11.26%</div><div class=\"begin\">2009-06-15</div><div class=\"buy-btn\"><button>购买</button></div></a><a class=\"row normal bg-mid\" href=\"https://danjuanapp.com/funding/040180?channel=1800100001&amp;source=guzhi__web_20171001\"><div class=\"pe\">11.21</div><div class=\"pe-per\">51.54%</div><div class=\"pb\">1.26</div><div class=\"pb-per\">29.29%</div><div class=\"dyr\">2.67%</div><div class=\"roe\">11.27%</div><div class=\"begin\">2009-05-04</div><div class=\"buy-btn\"><button>购买</button></div></a><a class=\"row normal bg-mid\" href=\"https://danjuanapp.com/funding/240014?channel=1800100001&amp;source=guzhi__web_20171001\"><div class=\"pe\">11.58</div><div class=\"pe-per\">59.89%</div><div class=\"pb\">1.34</div><div class=\"pb-per\">38.19%</div><div class=\"dyr\">2.59%</div><div class=\"roe\">11.54%</div><div class=\"begin\">2009-06-15</div><div class=\"buy-btn\"><button>购买</button></div></a><a class=\"row normal bg-mid\" href=\"https://danjuanapp.com/funding/501021?channel=1800100001&amp;source=guzhi__web_20171001\"><div class=\"pe\">12.20</div><div class=\"pe-per\">33.25%</div><div class=\"pb\">1.39</div><div class=\"pb-per\">39.41%</div><div class=\"dyr\">2.00%</div><div class=\"roe\">11.43%</div><div class=\"begin\">2011-06-02</div><div class=\"buy-btn\"><button>购买</button></div></a><a class=\"row normal bg-mid\" href=\"https://danjuanapp.com/funding/100038?channel=1800100001&amp;source=guzhi__web_20171001\"><div class=\"pe\">12.50</div><div class=\"pe-per\">50.08%</div><div class=\"pb\">1.41</div><div class=\"pb-per\">33.55%</div><div class=\"dyr\">2.39%</div><div class=\"roe\">11.30%</div><div class=\"begin\">2009-06-15</div><div class=\"buy-btn\"><button>购买</button></div></a><a class=\"row normal bg-mid\" href=\"https://danjuanapp.com/funding/530015?channel=1800100001&amp;source=guzhi__web_20171001\"><div class=\"pe\">16.01</div><div class=\"pe-per\">36.32%</div><div class=\"pb\">2.11</div><div class=\"pb-per\">65.64%</div><div class=\"dyr\">1.74%</div><div class=\"roe\">13.18%</div><div class=\"begin\">2012-08-10</div><div class=\"buy-btn\"><button>购买</button></div></a><a class=\"row normal bg-mid\" href=\"https://danjuanapp.com/funding/481012?channel=1800100001&amp;source=guzhi__web_20171001\"><div class=\"pe\">16.06</div><div class=\"pe-per\">54.92%</div><div class=\"pb\">2.31</div><div class=\"pb-per\">63.04%</div><div class=\"dyr\">1.99%</div><div class=\"roe\">14.35%</div><div class=\"begin\">2009-06-15</div><div class=\"buy-btn\"><button>购买</button></div></a><a class=\"row normal bg-mid\" href=\"https://danjuanapp.com/funding/005414?channel=1800100001&amp;source=guzhi__web_20171001\"><div class=\"pe\">17.14</div><div class=\"pe-per\">44.67%</div><div class=\"pb\">1.61</div><div class=\"pb-per\">16.16%</div><div class=\"dyr\">1.88%</div><div class=\"roe\">9.39%</div><div class=\"begin\">2009-06-15</div><div class=\"buy-btn\"><button>购买</button></div></a><a class=\"row normal bg-mid\" href=\"https://danjuanapp.com/funding/217016?channel=1800100001&amp;source=guzhi__web_20171001\"><div class=\"pe\">21.12</div><div class=\"pe-per\">51.11%</div><div class=\"pb\">2.72</div><div class=\"pb-per\">46.68%</div><div class=\"dyr\">1.28%</div><div class=\"roe\">12.89%</div><div class=\"begin\">2009-06-15</div><div class=\"buy-btn\"><button>购买</button></div></a><a class=\"row normal bg-mid\" href=\"https://danjuanapp.com/funding/096001?channel=1800100001&amp;source=guzhi__web_20171001\"><div class=\"pe\">21.54</div><div class=\"pe-per\">60.76%</div><div class=\"pb\">3.33</div><div class=\"pb-per\">95.53%</div><div class=\"dyr\">1.86%</div><div class=\"roe\">16.65%</div><div class=\"begin\">2012-01-05</div><div class=\"buy-btn\"><button>购买</button></div></a><a class=\"row normal bg-mid\" href=\"https://danjuanapp.com/funding/001064?channel=1800100001&amp;source=guzhi__web_20171001\"><div class=\"pe\">21.62</div><div class=\"pe-per\">9.41%</div><div class=\"pb\">2.12</div><div class=\"pb-per\">15.83%</div><div class=\"dyr\">1.61%</div><div class=\"roe\">9.82%</div><div class=\"begin\">2012-09-25</div><div class=\"buy-btn\"><button>购买</button></div></a><a class=\"row normal bg-mid\" href=\"https://danjuanapp.com/funding/000968?channel=1800100001&amp;source=guzhi__web_20171001\"><div class=\"pe\">22.69</div><div class=\"pe-per\">38.67%</div><div class=\"pb\">3.11</div><div class=\"pb-per\">66.94%</div><div class=\"dyr\">1.23%</div><div class=\"roe\">13.68%</div><div class=\"begin\">2014-06-06</div><div class=\"buy-btn\"><button>购买</button></div></a><a class=\"row normal bg-mid\" href=\"https://danjuanapp.com/funding/163109?channel=1800100001&amp;source=guzhi__web_20171001\"><div class=\"pe\">23.02</div><div class=\"pe-per\">49.60%</div><div class=\"pb\">2.40</div><div class=\"pb-per\">42.48%</div><div class=\"dyr\">1.20%</div><div class=\"roe\">10.41%</div><div class=\"begin\">2012-08-08</div><div class=\"buy-btn\"><button>购买</button></div></a><a class=\"row normal bg-mid\" href=\"https://danjuanapp.com/funding/000478?channel=1800100001&amp;source=guzhi__web_20171001\"><div class=\"pe\">23.85</div><div class=\"pe-per\">8.16%</div><div class=\"pb\">1.79</div><div class=\"pb-per\">5.13%</div><div class=\"dyr\">1.23%</div><div class=\"roe\">7.51%</div><div class=\"begin\">2009-06-15</div><div class=\"buy-btn\"><button>购买</button></div></a><a class=\"row normal bg-mid\" href=\"https://danjuanapp.com/funding/001550?channel=1800100001&amp;source=guzhi__web_20171001\"><div class=\"pe\">33.11</div><div class=\"pe-per\">28.60%</div><div class=\"pb\">3.99</div><div class=\"pb-per\">33.96%</div><div class=\"dyr\">0.88%</div><div class=\"roe\">12.05%</div><div class=\"begin\">2012-08-10</div><div class=\"buy-btn\"><button>购买</button></div></a><a class=\"row normal bg-mid\" href=\"https://danjuanapp.com/funding/001180?channel=1800100001&amp;source=guzhi__web_20171001\"><div class=\"pe\">33.70</div><div class=\"pe-per\">28.33%</div><div class=\"pb\">3.50</div><div class=\"pb-per\">13.30%</div><div class=\"dyr\">0.87%</div><div class=\"roe\">10.38%</div><div class=\"begin\">2011-08-02</div><div class=\"buy-btn\"><button>购买</button></div></a><a class=\"row normal bg-mid\" href=\"https://danjuanapp.com/funding/110026?channel=1800100001&amp;source=guzhi__web_20171001\"><div class=\"pe\">49.15</div><div class=\"pe-per\">48.66%</div><div class=\"pb\">4.39</div><div class=\"pb-per\">39.48%</div><div class=\"dyr\">0.52%</div><div class=\"roe\">8.94%</div><div class=\"begin\">2010-06-01</div><div class=\"buy-btn\"><button>购买</button></div></a><a class=\"row normal bg-mid\" href=\"https://danjuanapp.com/funding/163115?channel=1800100001&amp;source=guzhi__web_20171001\"><div class=\"pe\">63.62</div><div class=\"pe-per\">22.89%</div><div class=\"pb\">2.45</div><div class=\"pb-per\">14.96%</div><div class=\"dyr\">0.35%</div><div class=\"roe\">3.85%</div><div class=\"begin\">2013-12-26</div><div class=\"buy-btn\"><button>购买</button></div></a><a class=\"row normal bg-high\" href=\"https://danjuanapp.com/funding/164824?channel=1800100001&amp;source=guzhi__web_20171001\"><div class=\"pe\">22.92</div><div class=\"pe-per\">86.20%</div><div class=\"pb\">3.09</div><div class=\"pb-per\">86.80%</div><div class=\"dyr\">1.66%</div><div class=\"roe\">13.64%</div><div class=\"begin\">2012-04-04</div><div class=\"buy-btn\"><button>购买</button></div></a><a class=\"row normal bg-high\" href=\"https://danjuanapp.com/funding/160213?channel=1800100001&amp;source=guzhi__web_20171001\"><div class=\"pe\">24.94</div><div class=\"pe-per\">71.92%</div><div class=\"pb\">5.93</div><div class=\"pb-per\">98.43%</div><div class=\"dyr\">0.90%</div><div class=\"roe\">23.79%</div><div class=\"begin\">2012-01-05</div><div class=\"buy-btn\"><button>购买</button></div></a><a class=\"row normal bg-high\" href=\"https://danjuanapp.com/funding/002977?channel=1800100001&amp;source=guzhi__web_20171001\"><div class=\"pe\">25.54</div><div class=\"pe-per\">72.61%</div><div class=\"pb\">1.97</div><div class=\"pb-per\">12.57%</div><div class=\"dyr\">1.95%</div><div class=\"roe\">7.70%</div><div class=\"begin\">2011-08-02</div><div class=\"buy-btn\"><button>购买</button></div></a><a class=\"row normal bg-high\" href=\"https://danjuanapp.com/funding/160222?channel=1800100001&amp;source=guzhi__web_20171001\"><div class=\"pe\">30.56</div><div class=\"pe-per\">82.20%</div><div class=\"pb\">6.55</div><div class=\"pb-per\">97.93%</div><div class=\"dyr\">1.32%</div><div class=\"roe\">21.42%</div><div class=\"begin\">2012-02-17</div><div class=\"buy-btn\"><button>购买</button></div></a><a class=\"row normal bg-high\" href=\"https://danjuanapp.com/funding/006098?channel=1800100001&amp;source=guzhi__web_20171001\"><div class=\"pe\">33.65</div><div class=\"pe-per\">83.15%</div><div class=\"pb\">1.74</div><div class=\"pb-per\">34.25%</div><div class=\"dyr\">1.11%</div><div class=\"roe\">5.19%</div><div class=\"begin\">2013-07-15</div><div class=\"buy-btn\"><button>购买</button></div></a><a class=\"row normal bg-high\" href=\"https://danjuanapp.com/funding/000248?channel=1800100001&amp;source=guzhi__web_20171001\"><div class=\"pe\">33.78</div><div class=\"pe-per\">73.64%</div><div class=\"pb\">6.08</div><div class=\"pb-per\">84.78%</div><div class=\"dyr\">1.28%</div><div class=\"roe\">18.01%</div><div class=\"begin\">2009-07-03</div><div class=\"buy-btn\"><button>购买</button></div></a><a class=\"row normal bg-high\" href=\"https://danjuanapp.com/funding/002974?channel=1800100001&amp;source=guzhi__web_20171001\"><div class=\"pe\">68.44</div><div class=\"pe-per\">87.74%</div><div class=\"pb\">3.34</div><div class=\"pb-per\">26.76%</div><div class=\"dyr\">0.65%</div><div class=\"roe\">4.88%</div><div class=\"begin\">2011-08-02</div><div class=\"buy-btn\"><button>购买</button></div></a><a class=\"row normal bg-high\" href=\"https://danjuanapp.com/funding/164906?channel=1800100001&amp;source=guzhi__web_20171001\"><div class=\"pe\">72.50</div><div class=\"pe-per\">95.62%</div><div class=\"pb\">4.98</div><div class=\"pb-per\">3.13%</div><div class=\"dyr\">0.08%</div><div class=\"roe\">6.86%</div><div class=\"begin\">2012-11-26</div><div class=\"buy-btn\"><button>购买</button></div></a><a class=\"row normal bg-unsort\" href=\"https://danjuanapp.com/funding/501050?channel=1800100001&amp;source=guzhi__web_20171001\"><div class=\"pe\">8.37</div><div class=\"pe-per\">51.80%</div><div class=\"pb\">0.96</div><div class=\"pb-per\">50.87%</div><div class=\"dyr\">3.56%</div><div class=\"roe\">11.50%</div><div class=\"begin\">2015-12-14</div><div class=\"buy-btn\"><button>购买</button></div></a><a class=\"row normal bg-unsort\" href=\"https://danjuanapp.com/funding/161724?channel=1800100001&amp;source=guzhi__web_20171001\"><div class=\"pe\">9.81</div><div class=\"pe-per\">15.20%</div><div class=\"pb\">1.11</div><div class=\"pb-per\">16.24%</div><div class=\"dyr\">3.24%</div><div class=\"roe\">11.35%</div><div class=\"begin\">2015-02-13</div><div class=\"buy-btn\"><button>购买</button></div></a><a class=\"row normal bg-unsort\" href=\"https://danjuanapp.com/funding/003318?channel=1800100001&amp;source=guzhi__web_20171001\"><div class=\"pe\">18.21</div><div class=\"pe-per\">6.09%</div><div class=\"pb\">1.45</div><div class=\"pb-per\">15.23%</div><div class=\"dyr\">1.69%</div><div class=\"roe\">7.99%</div><div class=\"begin\">2016-02-04</div><div class=\"buy-btn\"><button>购买</button></div></a><a class=\"row normal bg-unsort\" href=\"\"><div class=\"pe\">21.78</div><div class=\"pe-per\">27.61%</div><div class=\"pb\">1.93</div><div class=\"pb-per\">12.01%</div><div class=\"dyr\">2.36%</div><div class=\"roe\">8.84%</div><div class=\"begin\">2014-09-24</div><div class=\"buy-btn\"><button>购买</button></div></a><a class=\"row normal bg-unsort\" href=\"https://danjuanapp.com/funding/161725?channel=1800100001&amp;source=guzhi__web_20171001\"><div class=\"pe\">29.72</div><div class=\"pe-per\">76.21%</div><div class=\"pb\">7.26</div><div class=\"pb-per\">90.61%</div><div class=\"dyr\">1.23%</div><div class=\"roe\">24.44%</div><div class=\"begin\">2015-01-21</div><div class=\"buy-btn\"><button>购买</button></div></a><a class=\"row normal bg-unsort\" href=\"https://danjuanapp.com/funding/003646?channel=1800100001&amp;source=guzhi__web_20171001\"><div class=\"pe\">37.95</div><div class=\"pe-per\">23.73%</div><div class=\"pb\">2.18</div><div class=\"pb-per\">17.60%</div><div class=\"dyr\">1.03%</div><div class=\"roe\">5.74%</div><div class=\"begin\">2014-10-17</div><div class=\"buy-btn\"><button>购买</button></div></a><a class=\"row normal bg-unsort\" href=\"\"><div class=\"pe\">72.50</div><div class=\"pe-per\">91.24%</div><div class=\"pb\">4.98</div><div class=\"pb-per\">5.14%</div><div class=\"dyr\">0.08%</div><div class=\"roe\">6.86%</div><div class=\"begin\">2014-12-29</div><div class=\"buy-btn\"><button>购买</button></div></a></div></div>"
      ]
     },
     "execution_count": 24,
     "metadata": {},
     "output_type": "execute_result"
    }
   ],
   "source": [
    "table"
   ]
  },
  {
   "cell_type": "code",
   "execution_count": 25,
   "metadata": {
    "collapsed": false
   },
   "outputs": [
    {
     "data": {
      "text/plain": [
       "<a class=\"name bg-low\" href=\"https://danjuanapp.com/funding/501310?channel=1800100001&amp;source=guzhi__web_20171001\" style=\"top: 0rem;\"><div class=\"con\"><h1>标普价值</h1><small>SPACEVCP</small></div><div class=\"color-bar low\"></div></a>"
      ]
     },
     "execution_count": 25,
     "metadata": {},
     "output_type": "execute_result"
    }
   ],
   "source": [
    "table.find('a')"
   ]
  },
  {
   "cell_type": "code",
   "execution_count": 58,
   "metadata": {
    "collapsed": false
   },
   "outputs": [
    {
     "name": "stdout",
     "output_type": "stream",
     "text": [
      "47\n",
      "47\n"
     ]
    }
   ],
   "source": [
    "name = table.find_all('a', {'class': (lambda value: value.startswith('name'))})\n",
    "print(len(name))\n",
    "dinfo = table.find_all('a', {'class': (lambda value: value.startswith('row'))})\n",
    "print(len(dinfo))"
   ]
  },
  {
   "cell_type": "code",
   "execution_count": 61,
   "metadata": {
    "collapsed": false
   },
   "outputs": [
    {
     "data": {
      "text/plain": [
       "[<a class=\"name bg-low\" href=\"https://danjuanapp.com/funding/501310?channel=1800100001&amp;source=guzhi__web_20171001\" style=\"top: 0rem;\"><div class=\"con\"><h1>标普价值</h1><small>SPACEVCP</small></div><div class=\"color-bar low\"></div></a>,\n",
       " <a class=\"name bg-low\" href=\"https://danjuanapp.com/funding/090010?channel=1800100001&amp;source=guzhi__web_20171001\" style=\"top: 3.75rem;\"><div class=\"con\"><h1>中证红利</h1><small>SH000922</small></div><div class=\"color-bar low\"></div></a>,\n",
       " <a class=\"name bg-low\" href=\"https://danjuanapp.com/funding/006255?channel=1800100001&amp;source=guzhi__web_20171001\" style=\"top: 7.5rem;\"><div class=\"con\"><h1>神奇公式</h1><small>CSI930949</small></div><div class=\"color-bar low\"></div></a>,\n",
       " <a class=\"name bg-low\" href=\"https://danjuanapp.com/funding/501029?channel=1800100001&amp;source=guzhi__web_20171001\" style=\"top: 11.25rem;\"><div class=\"con\"><h1>标普红利</h1><small>CSPSADRP</small></div><div class=\"color-bar low\"></div></a>,\n",
       " <a class=\"name bg-low\" href=\"https://danjuanapp.com/funding/070023?channel=1800100001&amp;source=guzhi__web_20171001\" style=\"top: 15rem;\"><div class=\"con\"><h1>基本面120</h1><small>SZ399702</small></div><div class=\"color-bar low\"></div></a>,\n",
       " <a class=\"name bg-mid\" href=\"https://danjuanapp.com/funding/240019?channel=1800100001&amp;source=guzhi__web_20171001\" style=\"top: 18.75rem;\"><div class=\"con\"><h1>中证银行</h1><small>SZ399986</small></div><div class=\"color-bar mid\"></div></a>,\n",
       " <a class=\"name bg-mid\" href=\"https://danjuanapp.com/funding/005279?channel=1800100001&amp;source=guzhi__web_20171001\" style=\"top: 22.5rem;\"><div class=\"con\"><h1>红利低波</h1><small>CSIH30269</small></div><div class=\"color-bar mid\"></div></a>,\n",
       " <a class=\"name bg-mid\" href=\"\" style=\"top: 26.25rem;\"><div class=\"con\"><h1>上证红利</h1><small>SH000015</small></div><div class=\"color-bar mid\"></div></a>,\n",
       " <a class=\"name bg-mid\" href=\"https://danjuanapp.com/funding/310398?channel=1800100001&amp;source=guzhi__web_20171001\" style=\"top: 30rem;\"><div class=\"con\"><h1>300价值</h1><small>SH000919</small></div><div class=\"color-bar mid\"></div></a>,\n",
       " <a class=\"name bg-mid\" href=\"https://danjuanapp.com/funding/501301?channel=1800100001&amp;source=guzhi__web_20171001\" style=\"top: 33.75rem;\"><div class=\"con\"><h1>香港大盘</h1><small>HSFML25</small></div><div class=\"color-bar mid\"></div></a>,\n",
       " <a class=\"name bg-mid\" href=\"https://danjuanapp.com/funding/160717?channel=1800100001&amp;source=guzhi__web_20171001\" style=\"top: 37.5rem;\"><div class=\"con\"><h1>国企指数</h1><small>HKHSCEI</small></div><div class=\"color-bar mid\"></div></a>,\n",
       " <a class=\"name bg-mid\" href=\"https://danjuanapp.com/funding/165312?channel=1800100001&amp;source=guzhi__web_20171001\" style=\"top: 41.25rem;\"><div class=\"con\"><h1>央视50</h1><small>SZ399550</small></div><div class=\"color-bar mid\"></div></a>,\n",
       " <a class=\"name bg-mid\" href=\"https://danjuanapp.com/funding/160716?channel=1800100001&amp;source=guzhi__web_20171001\" style=\"top: 45rem;\"><div class=\"con\"><h1>基本面50</h1><small>SH000925</small></div><div class=\"color-bar mid\"></div></a>,\n",
       " <a class=\"name bg-mid\" href=\"https://danjuanapp.com/funding/110003?channel=1800100001&amp;source=guzhi__web_20171001\" style=\"top: 48.75rem;\"><div class=\"con\"><h1>上证50</h1><small>SH000016</small></div><div class=\"color-bar mid\"></div></a>,\n",
       " <a class=\"name bg-mid\" href=\"https://danjuanapp.com/funding/000071?channel=1800100001&amp;source=guzhi__web_20171001\" style=\"top: 52.5rem;\"><div class=\"con\"><h1>恒生指数</h1><small>HKHSI</small></div><div class=\"color-bar mid\"></div></a>,\n",
       " <a class=\"name bg-mid\" href=\"https://danjuanapp.com/funding/040180?channel=1800100001&amp;source=guzhi__web_20171001\" style=\"top: 56.25rem;\"><div class=\"con\"><h1>上证180</h1><small>SH000010</small></div><div class=\"color-bar mid\"></div></a>,\n",
       " <a class=\"name bg-mid\" href=\"https://danjuanapp.com/funding/240014?channel=1800100001&amp;source=guzhi__web_20171001\" style=\"top: 60rem;\"><div class=\"con\"><h1>中证100</h1><small>SH000903</small></div><div class=\"color-bar mid\"></div></a>,\n",
       " <a class=\"name bg-mid\" href=\"https://danjuanapp.com/funding/501021?channel=1800100001&amp;source=guzhi__web_20171001\" style=\"top: 63.75rem;\"><div class=\"con\"><h1>香港中小</h1><small>SPHCMSHP</small></div><div class=\"color-bar mid\"></div></a>,\n",
       " <a class=\"name bg-mid\" href=\"https://danjuanapp.com/funding/100038?channel=1800100001&amp;source=guzhi__web_20171001\" style=\"top: 67.5rem;\"><div class=\"con\"><h1>沪深300</h1><small>SH000300</small></div><div class=\"color-bar mid\"></div></a>,\n",
       " <a class=\"name bg-mid\" href=\"https://danjuanapp.com/funding/530015?channel=1800100001&amp;source=guzhi__web_20171001\" style=\"top: 71.25rem;\"><div class=\"con\"><h1>基本面60</h1><small>SZ399701</small></div><div class=\"color-bar mid\"></div></a>,\n",
       " <a class=\"name bg-mid\" href=\"https://danjuanapp.com/funding/481012?channel=1800100001&amp;source=guzhi__web_20171001\" style=\"top: 75rem;\"><div class=\"con\"><h1>深证红利</h1><small>SZ399324</small></div><div class=\"color-bar mid\"></div></a>,\n",
       " <a class=\"name bg-mid\" href=\"https://danjuanapp.com/funding/005414?channel=1800100001&amp;source=guzhi__web_20171001\" style=\"top: 78.75rem;\"><div class=\"con\"><h1>国证A指</h1><small>SZ399317</small></div><div class=\"color-bar mid\"></div></a>,\n",
       " <a class=\"name bg-mid\" href=\"https://danjuanapp.com/funding/217016?channel=1800100001&amp;source=guzhi__web_20171001\" style=\"top: 82.5rem;\"><div class=\"con\"><h1>深证100</h1><small>SZ399330</small></div><div class=\"color-bar mid\"></div></a>,\n",
       " <a class=\"name bg-mid\" href=\"https://danjuanapp.com/funding/096001?channel=1800100001&amp;source=guzhi__web_20171001\" style=\"top: 86.25rem;\"><div class=\"con\"><h1>标普500</h1><small>SP500</small></div><div class=\"color-bar mid\"></div></a>,\n",
       " <a class=\"name bg-mid\" href=\"https://danjuanapp.com/funding/001064?channel=1800100001&amp;source=guzhi__web_20171001\" style=\"top: 90rem;\"><div class=\"con\"><h1>中证环保</h1><small>SH000827</small></div><div class=\"color-bar mid\"></div></a>,\n",
       " <a class=\"name bg-mid\" href=\"https://danjuanapp.com/funding/000968?channel=1800100001&amp;source=guzhi__web_20171001\" style=\"top: 93.75rem;\"><div class=\"con\"><h1>养老产业</h1><small>SZ399812</small></div><div class=\"color-bar mid\"></div></a>,\n",
       " <a class=\"name bg-mid\" href=\"https://danjuanapp.com/funding/163109?channel=1800100001&amp;source=guzhi__web_20171001\" style=\"top: 97.5rem;\"><div class=\"con\"><h1>深证成指</h1><small>SZ399001</small></div><div class=\"color-bar mid\"></div></a>,\n",
       " <a class=\"name bg-mid\" href=\"https://danjuanapp.com/funding/000478?channel=1800100001&amp;source=guzhi__web_20171001\" style=\"top: 101.25rem;\"><div class=\"con\"><h1>中证500</h1><small>SH000905</small></div><div class=\"color-bar mid\"></div></a>,\n",
       " <a class=\"name bg-mid\" href=\"https://danjuanapp.com/funding/001550?channel=1800100001&amp;source=guzhi__web_20171001\" style=\"top: 105rem;\"><div class=\"con\"><h1>医药100</h1><small>SH000978</small></div><div class=\"color-bar mid\"></div></a>,\n",
       " <a class=\"name bg-mid\" href=\"https://danjuanapp.com/funding/001180?channel=1800100001&amp;source=guzhi__web_20171001\" style=\"top: 108.75rem;\"><div class=\"con\"><h1>全指医药</h1><small>SH000991</small></div><div class=\"color-bar mid\"></div></a>,\n",
       " <a class=\"name bg-mid\" href=\"https://danjuanapp.com/funding/110026?channel=1800100001&amp;source=guzhi__web_20171001\" style=\"top: 112.5rem;\"><div class=\"con\"><h1>创业板</h1><small>SZ399006</small></div><div class=\"color-bar mid\"></div></a>,\n",
       " <a class=\"name bg-mid\" href=\"https://danjuanapp.com/funding/163115?channel=1800100001&amp;source=guzhi__web_20171001\" style=\"top: 116.25rem;\"><div class=\"con\"><h1>中证军工</h1><small>SZ399967</small></div><div class=\"color-bar mid\"></div></a>,\n",
       " <a class=\"name bg-high\" href=\"https://danjuanapp.com/funding/164824?channel=1800100001&amp;source=guzhi__web_20171001\" style=\"top: 120rem;\"><div class=\"con\"><h1>MSCI印度</h1><small>935600</small></div><div class=\"color-bar high\"></div></a>,\n",
       " <a class=\"name bg-high\" href=\"https://danjuanapp.com/funding/160213?channel=1800100001&amp;source=guzhi__web_20171001\" style=\"top: 123.75rem;\"><div class=\"con\"><h1>纳指100</h1><small>NDX</small></div><div class=\"color-bar high\"></div></a>,\n",
       " <a class=\"name bg-high\" href=\"https://danjuanapp.com/funding/002977?channel=1800100001&amp;source=guzhi__web_20171001\" style=\"top: 127.5rem;\"><div class=\"con\"><h1>全指可选</h1><small>SH000989</small></div><div class=\"color-bar high\"></div></a>,\n",
       " <a class=\"name bg-high\" href=\"https://danjuanapp.com/funding/160222?channel=1800100001&amp;source=guzhi__web_20171001\" style=\"top: 131.25rem;\"><div class=\"con\"><h1>食品饮料</h1><small>SH000807</small></div><div class=\"color-bar high\"></div></a>,\n",
       " <a class=\"name bg-high\" href=\"https://danjuanapp.com/funding/006098?channel=1800100001&amp;source=guzhi__web_20171001\" style=\"top: 135rem;\"><div class=\"con\"><h1>证券公司</h1><small>SZ399975</small></div><div class=\"color-bar high\"></div></a>,\n",
       " <a class=\"name bg-high\" href=\"https://danjuanapp.com/funding/000248?channel=1800100001&amp;source=guzhi__web_20171001\" style=\"top: 138.75rem;\"><div class=\"con\"><h1>主要消费</h1><small>SH000932</small></div><div class=\"color-bar high\"></div></a>,\n",
       " <a class=\"name bg-high\" href=\"https://danjuanapp.com/funding/002974?channel=1800100001&amp;source=guzhi__web_20171001\" style=\"top: 142.5rem;\"><div class=\"con\"><h1>全指信息</h1><small>SH000993</small></div><div class=\"color-bar high\"></div></a>,\n",
       " <a class=\"name bg-high\" href=\"https://danjuanapp.com/funding/164906?channel=1800100001&amp;source=guzhi__web_20171001\" style=\"top: 146.25rem;\"><div class=\"con\"><h1>中国互联</h1><small>CSIH11136</small></div><div class=\"color-bar high\"></div></a>,\n",
       " <a class=\"name bg-unsort\" href=\"https://danjuanapp.com/funding/501050?channel=1800100001&amp;source=guzhi__web_20171001\" style=\"top: 150rem;\"><div class=\"con\"><h1>50AH优选</h1><small>SH000170</small></div><div class=\"color-bar unsort\"></div></a>,\n",
       " <a class=\"name bg-unsort\" href=\"https://danjuanapp.com/funding/161724?channel=1800100001&amp;source=guzhi__web_20171001\" style=\"top: 153.75rem;\"><div class=\"con\"><h1>中证煤炭</h1><small>SZ399998</small></div><div class=\"color-bar unsort\"></div></a>,\n",
       " <a class=\"name bg-unsort\" href=\"https://danjuanapp.com/funding/003318?channel=1800100001&amp;source=guzhi__web_20171001\" style=\"top: 157.5rem;\"><div class=\"con\"><h1>500低波</h1><small>CSI930782</small></div><div class=\"color-bar unsort\"></div></a>,\n",
       " <a class=\"name bg-unsort\" href=\"\" style=\"top: 161.25rem;\"><div class=\"con\"><h1>新能源车</h1><small>SZ399417</small></div><div class=\"color-bar unsort\"></div></a>,\n",
       " <a class=\"name bg-unsort\" href=\"https://danjuanapp.com/funding/161725?channel=1800100001&amp;source=guzhi__web_20171001\" style=\"top: 165rem;\"><div class=\"con\"><h1>中证白酒</h1><small>SZ399997</small></div><div class=\"color-bar unsort\"></div></a>,\n",
       " <a class=\"name bg-unsort\" href=\"https://danjuanapp.com/funding/003646?channel=1800100001&amp;source=guzhi__web_20171001\" style=\"top: 168.75rem;\"><div class=\"con\"><h1>中证1000</h1><small>SH000852</small></div><div class=\"color-bar unsort\"></div></a>,\n",
       " <a class=\"name bg-unsort\" href=\"\" style=\"top: 172.5rem;\"><div class=\"con\"><h1>中概互联50</h1><small>CSIH30533</small></div><div class=\"color-bar unsort\"></div></a>]"
      ]
     },
     "execution_count": 61,
     "metadata": {},
     "output_type": "execute_result"
    }
   ],
   "source": [
    "name"
   ]
  },
  {
   "cell_type": "code",
   "execution_count": 65,
   "metadata": {
    "collapsed": false
   },
   "outputs": [
    {
     "data": {
      "text/plain": [
       "'标普价值'"
      ]
     },
     "execution_count": 65,
     "metadata": {},
     "output_type": "execute_result"
    }
   ],
   "source": [
    "name[0].find('h1').get_text()"
   ]
  },
  {
   "cell_type": "code",
   "execution_count": 67,
   "metadata": {
    "collapsed": false
   },
   "outputs": [],
   "source": [
    "name_table = []\n",
    "for row in name:\n",
    "    name_list = []\n",
    "    name_cn = row.find('h1').get_text()\n",
    "    name_code = row.find('small').get_text()\n",
    "    name_list = [name_cn, name_code]\n",
    "    name_table.append(name_list)"
   ]
  },
  {
   "cell_type": "code",
   "execution_count": 85,
   "metadata": {
    "collapsed": false
   },
   "outputs": [
    {
     "data": {
      "text/plain": [
       "<a class=\"row normal bg-low\" href=\"https://danjuanapp.com/funding/501310?channel=1800100001&amp;source=guzhi__web_20171001\"><div class=\"pe\">6.91</div><div class=\"pe-per\">9.98%</div><div class=\"pb\">0.73</div><div class=\"pb-per\">0.75%</div><div class=\"dyr\">4.47%</div><div class=\"roe\">10.62%</div><div class=\"begin\">2012-11-30</div><div class=\"buy-btn\"><button>购买</button></div></a>"
      ]
     },
     "execution_count": 85,
     "metadata": {},
     "output_type": "execute_result"
    }
   ],
   "source": [
    "dinfo[0]"
   ]
  },
  {
   "cell_type": "code",
   "execution_count": 91,
   "metadata": {
    "collapsed": false
   },
   "outputs": [],
   "source": [
    "info_table = []\n",
    "for row in dinfo:\n",
    "    info_list = []\n",
    "    pe = row.find('div', {'class':'pe'}).get_text()\n",
    "    pe_pct = row.find('div', {'class':\"pe-per\"}).get_text()\n",
    "    pb = row.find('div', {'class':'pb'}).get_text()\n",
    "    pb_pct = row.find('div', {'class':'pb-per'}).get_text()\n",
    "    dyr = row.find('div', {'class':'dyr'}).get_text()\n",
    "    roe = row.find('div', {'class':'roe'}).get_text()\n",
    "    since = row.find('div', {'class':'begin'}).get_text()\n",
    "    info_list = [pe, pe_pct, pb, pb_pct, dyr, roe, since]\n",
    "    info_table.append(info_list)    "
   ]
  },
  {
   "cell_type": "code",
   "execution_count": null,
   "metadata": {
    "collapsed": true
   },
   "outputs": [],
   "source": []
  },
  {
   "cell_type": "code",
   "execution_count": 90,
   "metadata": {
    "collapsed": false
   },
   "outputs": [
    {
     "ename": "SyntaxError",
     "evalue": "unexpected EOF while parsing (<ipython-input-90-67742573bb27>, line 1)",
     "output_type": "error",
     "traceback": [
      "\u001b[0;36m  File \u001b[0;32m\"<ipython-input-90-67742573bb27>\"\u001b[0;36m, line \u001b[0;32m1\u001b[0m\n\u001b[0;31m    dinfo[0].find(('div', {'class':\"pe-per\"}).get_text()\u001b[0m\n\u001b[0m                                                        ^\u001b[0m\n\u001b[0;31mSyntaxError\u001b[0m\u001b[0;31m:\u001b[0m unexpected EOF while parsing\n"
     ]
    }
   ],
   "source": [
    "dinfo[0].find(('div', {'class':\"pe-per\"}).get_text()"
   ]
  },
  {
   "cell_type": "code",
   "execution_count": 79,
   "metadata": {
    "collapsed": false
   },
   "outputs": [
    {
     "data": {
      "text/plain": [
       "'6.91'"
      ]
     },
     "execution_count": 79,
     "metadata": {},
     "output_type": "execute_result"
    }
   ],
   "source": [
    "dinfo[0].find('div', {'class':'pe'}).get_text()"
   ]
  },
  {
   "cell_type": "code",
   "execution_count": 56,
   "metadata": {
    "collapsed": false
   },
   "outputs": [
    {
     "data": {
      "text/plain": [
       "'6.91'"
      ]
     },
     "execution_count": 56,
     "metadata": {},
     "output_type": "execute_result"
    }
   ],
   "source": [
    "row.find('div', {'class':'pe'}).get_text()"
   ]
  },
  {
   "cell_type": "markdown",
   "metadata": {
    "collapsed": true
   },
   "source": [
    "## 2 FX"
   ]
  },
  {
   "cell_type": "code",
   "execution_count": 4,
   "metadata": {
    "collapsed": true
   },
   "outputs": [],
   "source": [
    "url = 'http://www.boc.cn/sourcedb/whpj/index_1.html'\n",
    "soup = get_soup_eng_pr(url)"
   ]
  },
  {
   "cell_type": "code",
   "execution_count": 29,
   "metadata": {
    "collapsed": true
   },
   "outputs": [],
   "source": [
    "odd_table = soup.find_all('table')[-3]\n",
    "table = []\n",
    "for tr in odd_table.find_all('tr')[1:]:\n",
    "    row = tr.get_text().split('\\n')\n",
    "    table.append(row)"
   ]
  },
  {
   "cell_type": "code",
   "execution_count": 30,
   "metadata": {
    "collapsed": false
   },
   "outputs": [
    {
     "data": {
      "text/plain": [
       "'\\n澳大利亚元\\n477.68\\n462.84\\n481.19\\n482.37\\n478.06\\n2019-07-11\\n21:29:24\\n'"
      ]
     },
     "execution_count": 30,
     "metadata": {},
     "output_type": "execute_result"
    }
   ],
   "source": [
    "odd_table.find_all('tr')[2].get_text()"
   ]
  },
  {
   "cell_type": "code",
   "execution_count": 31,
   "metadata": {
    "collapsed": false
   },
   "outputs": [],
   "source": [
    "df = pd.DataFrame(table, columns=['N0', 'name', 'current_buy', 'cash_buy', 'current_sell', 'cash_sell', \n",
    "                            'boc_price', 'date', 'time', 'N99'])\n",
    "df = df.drop(['N0', 'N99'], axis=1)"
   ]
  },
  {
   "cell_type": "code",
   "execution_count": 32,
   "metadata": {
    "collapsed": false
   },
   "outputs": [
    {
     "data": {
      "text/html": [
       "<div>\n",
       "<style>\n",
       "    .dataframe thead tr:only-child th {\n",
       "        text-align: right;\n",
       "    }\n",
       "\n",
       "    .dataframe thead th {\n",
       "        text-align: left;\n",
       "    }\n",
       "\n",
       "    .dataframe tbody tr th {\n",
       "        vertical-align: top;\n",
       "    }\n",
       "</style>\n",
       "<table border=\"1\" class=\"dataframe\">\n",
       "  <thead>\n",
       "    <tr style=\"text-align: right;\">\n",
       "      <th></th>\n",
       "      <th>name</th>\n",
       "      <th>current_buy</th>\n",
       "      <th>cash_buy</th>\n",
       "      <th>current_sell</th>\n",
       "      <th>cash_sell</th>\n",
       "      <th>boc_price</th>\n",
       "      <th>date</th>\n",
       "      <th>time</th>\n",
       "    </tr>\n",
       "  </thead>\n",
       "  <tbody>\n",
       "    <tr>\n",
       "      <th>0</th>\n",
       "      <td>阿联酋迪拉姆</td>\n",
       "      <td></td>\n",
       "      <td>180.41</td>\n",
       "      <td></td>\n",
       "      <td>193.49</td>\n",
       "      <td>186.93</td>\n",
       "      <td>2019-07-11</td>\n",
       "      <td>21:29:24</td>\n",
       "    </tr>\n",
       "    <tr>\n",
       "      <th>1</th>\n",
       "      <td>澳大利亚元</td>\n",
       "      <td>477.68</td>\n",
       "      <td>462.84</td>\n",
       "      <td>481.19</td>\n",
       "      <td>482.37</td>\n",
       "      <td>478.06</td>\n",
       "      <td>2019-07-11</td>\n",
       "      <td>21:29:24</td>\n",
       "    </tr>\n",
       "    <tr>\n",
       "      <th>2</th>\n",
       "      <td>巴西里亚尔</td>\n",
       "      <td></td>\n",
       "      <td>175.83</td>\n",
       "      <td></td>\n",
       "      <td>192.32</td>\n",
       "      <td>183.01</td>\n",
       "      <td>2019-07-11</td>\n",
       "      <td>21:29:24</td>\n",
       "    </tr>\n",
       "  </tbody>\n",
       "</table>\n",
       "</div>"
      ],
      "text/plain": [
       "     name current_buy cash_buy current_sell cash_sell boc_price        date  \\\n",
       "0  阿联酋迪拉姆               180.41                 193.49    186.93  2019-07-11   \n",
       "1   澳大利亚元      477.68   462.84       481.19    482.37    478.06  2019-07-11   \n",
       "2   巴西里亚尔               175.83                 192.32    183.01  2019-07-11   \n",
       "\n",
       "       time  \n",
       "0  21:29:24  \n",
       "1  21:29:24  \n",
       "2  21:29:24  "
      ]
     },
     "execution_count": 32,
     "metadata": {},
     "output_type": "execute_result"
    }
   ],
   "source": [
    "df.head(3)"
   ]
  },
  {
   "cell_type": "code",
   "execution_count": 37,
   "metadata": {
    "collapsed": false
   },
   "outputs": [
    {
     "data": {
      "text/html": [
       "<div>\n",
       "<style>\n",
       "    .dataframe thead tr:only-child th {\n",
       "        text-align: right;\n",
       "    }\n",
       "\n",
       "    .dataframe thead th {\n",
       "        text-align: left;\n",
       "    }\n",
       "\n",
       "    .dataframe tbody tr th {\n",
       "        vertical-align: top;\n",
       "    }\n",
       "</style>\n",
       "<table border=\"1\" class=\"dataframe\">\n",
       "  <thead>\n",
       "    <tr style=\"text-align: right;\">\n",
       "      <th></th>\n",
       "      <th>name</th>\n",
       "      <th>current_buy</th>\n",
       "      <th>cash_buy</th>\n",
       "      <th>current_sell</th>\n",
       "      <th>cash_sell</th>\n",
       "      <th>boc_price</th>\n",
       "      <th>date</th>\n",
       "      <th>time</th>\n",
       "    </tr>\n",
       "  </thead>\n",
       "  <tbody>\n",
       "    <tr>\n",
       "      <th>0</th>\n",
       "      <td>阿联酋迪拉姆</td>\n",
       "      <td></td>\n",
       "      <td>180.41</td>\n",
       "      <td></td>\n",
       "      <td>193.49</td>\n",
       "      <td>186.93</td>\n",
       "      <td>2019-07-11</td>\n",
       "      <td>21:29:24</td>\n",
       "    </tr>\n",
       "    <tr>\n",
       "      <th>1</th>\n",
       "      <td>澳大利亚元</td>\n",
       "      <td>477.68</td>\n",
       "      <td>462.84</td>\n",
       "      <td>481.19</td>\n",
       "      <td>482.37</td>\n",
       "      <td>478.06</td>\n",
       "      <td>2019-07-11</td>\n",
       "      <td>21:29:24</td>\n",
       "    </tr>\n",
       "    <tr>\n",
       "      <th>2</th>\n",
       "      <td>巴西里亚尔</td>\n",
       "      <td></td>\n",
       "      <td>175.83</td>\n",
       "      <td></td>\n",
       "      <td>192.32</td>\n",
       "      <td>183.01</td>\n",
       "      <td>2019-07-11</td>\n",
       "      <td>21:29:24</td>\n",
       "    </tr>\n",
       "    <tr>\n",
       "      <th>3</th>\n",
       "      <td>加拿大元</td>\n",
       "      <td>523.92</td>\n",
       "      <td>507.37</td>\n",
       "      <td>527.78</td>\n",
       "      <td>529.06</td>\n",
       "      <td>525.22</td>\n",
       "      <td>2019-07-11</td>\n",
       "      <td>21:29:24</td>\n",
       "    </tr>\n",
       "    <tr>\n",
       "      <th>4</th>\n",
       "      <td>瑞士法郎</td>\n",
       "      <td>692.96</td>\n",
       "      <td>671.57</td>\n",
       "      <td>697.82</td>\n",
       "      <td>700.12</td>\n",
       "      <td>695.04</td>\n",
       "      <td>2019-07-11</td>\n",
       "      <td>21:29:24</td>\n",
       "    </tr>\n",
       "    <tr>\n",
       "      <th>5</th>\n",
       "      <td>丹麦克朗</td>\n",
       "      <td>103.09</td>\n",
       "      <td>99.9</td>\n",
       "      <td>103.91</td>\n",
       "      <td>104.2</td>\n",
       "      <td>103.56</td>\n",
       "      <td>2019-07-11</td>\n",
       "      <td>21:29:24</td>\n",
       "    </tr>\n",
       "    <tr>\n",
       "      <th>6</th>\n",
       "      <td>欧元</td>\n",
       "      <td>770.34</td>\n",
       "      <td>746.41</td>\n",
       "      <td>776.03</td>\n",
       "      <td>777.75</td>\n",
       "      <td>773.13</td>\n",
       "      <td>2019-07-11</td>\n",
       "      <td>21:29:24</td>\n",
       "    </tr>\n",
       "    <tr>\n",
       "      <th>7</th>\n",
       "      <td>英镑</td>\n",
       "      <td>858.84</td>\n",
       "      <td>832.16</td>\n",
       "      <td>865.17</td>\n",
       "      <td>867.27</td>\n",
       "      <td>858.95</td>\n",
       "      <td>2019-07-11</td>\n",
       "      <td>21:29:24</td>\n",
       "    </tr>\n",
       "    <tr>\n",
       "      <th>8</th>\n",
       "      <td>港币</td>\n",
       "      <td>87.63</td>\n",
       "      <td>86.93</td>\n",
       "      <td>87.98</td>\n",
       "      <td>87.98</td>\n",
       "      <td>87.83</td>\n",
       "      <td>2019-07-11</td>\n",
       "      <td>21:29:24</td>\n",
       "    </tr>\n",
       "    <tr>\n",
       "      <th>9</th>\n",
       "      <td>印尼卢比</td>\n",
       "      <td></td>\n",
       "      <td>0.0471</td>\n",
       "      <td></td>\n",
       "      <td>0.0505</td>\n",
       "      <td>0.0488</td>\n",
       "      <td>2019-07-11</td>\n",
       "      <td>21:29:24</td>\n",
       "    </tr>\n",
       "    <tr>\n",
       "      <th>10</th>\n",
       "      <td>印度卢比</td>\n",
       "      <td></td>\n",
       "      <td>9.4326</td>\n",
       "      <td></td>\n",
       "      <td>10.6368</td>\n",
       "      <td>10.041</td>\n",
       "      <td>2019-07-11</td>\n",
       "      <td>21:29:24</td>\n",
       "    </tr>\n",
       "    <tr>\n",
       "      <th>11</th>\n",
       "      <td>日元</td>\n",
       "      <td>6.3223</td>\n",
       "      <td>6.1258</td>\n",
       "      <td>6.3688</td>\n",
       "      <td>6.3723</td>\n",
       "      <td>6.3397</td>\n",
       "      <td>2019-07-11</td>\n",
       "      <td>21:29:24</td>\n",
       "    </tr>\n",
       "    <tr>\n",
       "      <th>12</th>\n",
       "      <td>韩国元</td>\n",
       "      <td>0.5822</td>\n",
       "      <td>0.5617</td>\n",
       "      <td>0.5868</td>\n",
       "      <td>0.6082</td>\n",
       "      <td>0.5841</td>\n",
       "      <td>2019-07-11</td>\n",
       "      <td>21:29:24</td>\n",
       "    </tr>\n",
       "    <tr>\n",
       "      <th>13</th>\n",
       "      <td>澳门元</td>\n",
       "      <td>85.2</td>\n",
       "      <td>82.35</td>\n",
       "      <td>85.54</td>\n",
       "      <td>88.28</td>\n",
       "      <td>85.35</td>\n",
       "      <td>2019-07-11</td>\n",
       "      <td>21:29:24</td>\n",
       "    </tr>\n",
       "    <tr>\n",
       "      <th>14</th>\n",
       "      <td>林吉特</td>\n",
       "      <td>166.9</td>\n",
       "      <td></td>\n",
       "      <td>168.41</td>\n",
       "      <td></td>\n",
       "      <td>166.25</td>\n",
       "      <td>2019-07-11</td>\n",
       "      <td>21:29:24</td>\n",
       "    </tr>\n",
       "    <tr>\n",
       "      <th>15</th>\n",
       "      <td>挪威克朗</td>\n",
       "      <td>79.98</td>\n",
       "      <td>77.51</td>\n",
       "      <td>80.62</td>\n",
       "      <td>80.85</td>\n",
       "      <td>80.06</td>\n",
       "      <td>2019-07-11</td>\n",
       "      <td>21:29:24</td>\n",
       "    </tr>\n",
       "    <tr>\n",
       "      <th>16</th>\n",
       "      <td>新西兰元</td>\n",
       "      <td>456.77</td>\n",
       "      <td>442.67</td>\n",
       "      <td>459.97</td>\n",
       "      <td>465.61</td>\n",
       "      <td>456.46</td>\n",
       "      <td>2019-07-11</td>\n",
       "      <td>21:29:24</td>\n",
       "    </tr>\n",
       "    <tr>\n",
       "      <th>17</th>\n",
       "      <td>菲律宾比索</td>\n",
       "      <td>13.36</td>\n",
       "      <td>12.94</td>\n",
       "      <td>13.46</td>\n",
       "      <td>14.09</td>\n",
       "      <td>13.39</td>\n",
       "      <td>2019-07-11</td>\n",
       "      <td>21:29:24</td>\n",
       "    </tr>\n",
       "    <tr>\n",
       "      <th>18</th>\n",
       "      <td>卢布</td>\n",
       "      <td>10.87</td>\n",
       "      <td>10.2</td>\n",
       "      <td>10.95</td>\n",
       "      <td>11.37</td>\n",
       "      <td>10.88</td>\n",
       "      <td>2019-07-11</td>\n",
       "      <td>21:29:24</td>\n",
       "    </tr>\n",
       "    <tr>\n",
       "      <th>19</th>\n",
       "      <td>沙特里亚尔</td>\n",
       "      <td></td>\n",
       "      <td>178.01</td>\n",
       "      <td></td>\n",
       "      <td>187.27</td>\n",
       "      <td>183.07</td>\n",
       "      <td>2019-07-11</td>\n",
       "      <td>21:29:24</td>\n",
       "    </tr>\n",
       "    <tr>\n",
       "      <th>20</th>\n",
       "      <td>瑞典克朗</td>\n",
       "      <td>72.87</td>\n",
       "      <td>70.62</td>\n",
       "      <td>73.45</td>\n",
       "      <td>73.66</td>\n",
       "      <td>72.95</td>\n",
       "      <td>2019-07-11</td>\n",
       "      <td>21:29:24</td>\n",
       "    </tr>\n",
       "    <tr>\n",
       "      <th>21</th>\n",
       "      <td>新加坡元</td>\n",
       "      <td>504.57</td>\n",
       "      <td>489</td>\n",
       "      <td>508.11</td>\n",
       "      <td>509.63</td>\n",
       "      <td>505.93</td>\n",
       "      <td>2019-07-11</td>\n",
       "      <td>21:29:24</td>\n",
       "    </tr>\n",
       "    <tr>\n",
       "      <th>22</th>\n",
       "      <td>泰国铢</td>\n",
       "      <td>22.3</td>\n",
       "      <td>21.61</td>\n",
       "      <td>22.48</td>\n",
       "      <td>23.17</td>\n",
       "      <td>22.4</td>\n",
       "      <td>2019-07-11</td>\n",
       "      <td>21:29:24</td>\n",
       "    </tr>\n",
       "    <tr>\n",
       "      <th>23</th>\n",
       "      <td>土耳其里拉</td>\n",
       "      <td>120.72</td>\n",
       "      <td>114.8</td>\n",
       "      <td>121.68</td>\n",
       "      <td>137.3</td>\n",
       "      <td>120.78</td>\n",
       "      <td>2019-07-11</td>\n",
       "      <td>21:29:24</td>\n",
       "    </tr>\n",
       "    <tr>\n",
       "      <th>24</th>\n",
       "      <td>新台币</td>\n",
       "      <td></td>\n",
       "      <td>21.37</td>\n",
       "      <td></td>\n",
       "      <td>23.04</td>\n",
       "      <td>22.1</td>\n",
       "      <td>2019-07-11</td>\n",
       "      <td>21:29:24</td>\n",
       "    </tr>\n",
       "    <tr>\n",
       "      <th>25</th>\n",
       "      <td>美元</td>\n",
       "      <td>685.41</td>\n",
       "      <td>679.83</td>\n",
       "      <td>688.31</td>\n",
       "      <td>688.31</td>\n",
       "      <td>686.77</td>\n",
       "      <td>2019-07-11</td>\n",
       "      <td>21:29:24</td>\n",
       "    </tr>\n",
       "    <tr>\n",
       "      <th>26</th>\n",
       "      <td>南非兰特</td>\n",
       "      <td>49.23</td>\n",
       "      <td>45.45</td>\n",
       "      <td>49.57</td>\n",
       "      <td>53.35</td>\n",
       "      <td>49.11</td>\n",
       "      <td>2019-07-11</td>\n",
       "      <td>21:29:24</td>\n",
       "    </tr>\n",
       "  </tbody>\n",
       "</table>\n",
       "</div>"
      ],
      "text/plain": [
       "      name current_buy cash_buy current_sell cash_sell boc_price        date  \\\n",
       "0   阿联酋迪拉姆               180.41                 193.49    186.93  2019-07-11   \n",
       "1    澳大利亚元      477.68   462.84       481.19    482.37    478.06  2019-07-11   \n",
       "2    巴西里亚尔               175.83                 192.32    183.01  2019-07-11   \n",
       "3     加拿大元      523.92   507.37       527.78    529.06    525.22  2019-07-11   \n",
       "4     瑞士法郎      692.96   671.57       697.82    700.12    695.04  2019-07-11   \n",
       "5     丹麦克朗      103.09     99.9       103.91     104.2    103.56  2019-07-11   \n",
       "6       欧元      770.34   746.41       776.03    777.75    773.13  2019-07-11   \n",
       "7       英镑      858.84   832.16       865.17    867.27    858.95  2019-07-11   \n",
       "8       港币       87.63    86.93        87.98     87.98     87.83  2019-07-11   \n",
       "9     印尼卢比               0.0471                 0.0505    0.0488  2019-07-11   \n",
       "10    印度卢比               9.4326                10.6368    10.041  2019-07-11   \n",
       "11      日元      6.3223   6.1258       6.3688    6.3723    6.3397  2019-07-11   \n",
       "12     韩国元      0.5822   0.5617       0.5868    0.6082    0.5841  2019-07-11   \n",
       "13     澳门元        85.2    82.35        85.54     88.28     85.35  2019-07-11   \n",
       "14     林吉特       166.9                168.41              166.25  2019-07-11   \n",
       "15    挪威克朗       79.98    77.51        80.62     80.85     80.06  2019-07-11   \n",
       "16    新西兰元      456.77   442.67       459.97    465.61    456.46  2019-07-11   \n",
       "17   菲律宾比索       13.36    12.94        13.46     14.09     13.39  2019-07-11   \n",
       "18      卢布       10.87     10.2        10.95     11.37     10.88  2019-07-11   \n",
       "19   沙特里亚尔               178.01                 187.27    183.07  2019-07-11   \n",
       "20    瑞典克朗       72.87    70.62        73.45     73.66     72.95  2019-07-11   \n",
       "21    新加坡元      504.57      489       508.11    509.63    505.93  2019-07-11   \n",
       "22     泰国铢        22.3    21.61        22.48     23.17      22.4  2019-07-11   \n",
       "23   土耳其里拉      120.72    114.8       121.68     137.3    120.78  2019-07-11   \n",
       "24     新台币                21.37                  23.04      22.1  2019-07-11   \n",
       "25      美元      685.41   679.83       688.31    688.31    686.77  2019-07-11   \n",
       "26    南非兰特       49.23    45.45        49.57     53.35     49.11  2019-07-11   \n",
       "\n",
       "        time  \n",
       "0   21:29:24  \n",
       "1   21:29:24  \n",
       "2   21:29:24  \n",
       "3   21:29:24  \n",
       "4   21:29:24  \n",
       "5   21:29:24  \n",
       "6   21:29:24  \n",
       "7   21:29:24  \n",
       "8   21:29:24  \n",
       "9   21:29:24  \n",
       "10  21:29:24  \n",
       "11  21:29:24  \n",
       "12  21:29:24  \n",
       "13  21:29:24  \n",
       "14  21:29:24  \n",
       "15  21:29:24  \n",
       "16  21:29:24  \n",
       "17  21:29:24  \n",
       "18  21:29:24  \n",
       "19  21:29:24  \n",
       "20  21:29:24  \n",
       "21  21:29:24  \n",
       "22  21:29:24  \n",
       "23  21:29:24  \n",
       "24  21:29:24  \n",
       "25  21:29:24  \n",
       "26  21:29:24  "
      ]
     },
     "execution_count": 37,
     "metadata": {},
     "output_type": "execute_result"
    }
   ],
   "source": [
    "df"
   ]
  },
  {
   "cell_type": "code",
   "execution_count": 36,
   "metadata": {
    "collapsed": false
   },
   "outputs": [
    {
     "data": {
      "text/plain": [
       "array(['阿联酋迪拉姆', '澳大利亚元', '巴西里亚尔', '加拿大元', '瑞士法郎', '丹麦克朗', '欧元', '英镑',\n",
       "       '港币', '印尼卢比', '印度卢比', '日元', '韩国元', '澳门元', '林吉特', '挪威克朗', '新西兰元',\n",
       "       '菲律宾比索', '卢布', '沙特里亚尔', '瑞典克朗', '新加坡元', '泰国铢', '土耳其里拉', '新台币', '美元',\n",
       "       '南非兰特'], dtype=object)"
      ]
     },
     "execution_count": 36,
     "metadata": {},
     "output_type": "execute_result"
    }
   ],
   "source": [
    "df.name.values"
   ]
  },
  {
   "cell_type": "code",
   "execution_count": 38,
   "metadata": {
    "collapsed": true
   },
   "outputs": [],
   "source": [
    "df = df.loc[df.name.isin(['澳大利亚元', '加拿大元', '瑞士法郎', '欧元', '英镑',\n",
    "       '港币', '日元', '韩国元', '新加坡元', '泰国铢', '土耳其里拉', '美元', '南非兰特'])].reset_index(drop=True)"
   ]
  },
  {
   "cell_type": "code",
   "execution_count": 39,
   "metadata": {
    "collapsed": false
   },
   "outputs": [
    {
     "data": {
      "text/html": [
       "<div>\n",
       "<style>\n",
       "    .dataframe thead tr:only-child th {\n",
       "        text-align: right;\n",
       "    }\n",
       "\n",
       "    .dataframe thead th {\n",
       "        text-align: left;\n",
       "    }\n",
       "\n",
       "    .dataframe tbody tr th {\n",
       "        vertical-align: top;\n",
       "    }\n",
       "</style>\n",
       "<table border=\"1\" class=\"dataframe\">\n",
       "  <thead>\n",
       "    <tr style=\"text-align: right;\">\n",
       "      <th></th>\n",
       "      <th>name</th>\n",
       "      <th>current_buy</th>\n",
       "      <th>cash_buy</th>\n",
       "      <th>current_sell</th>\n",
       "      <th>cash_sell</th>\n",
       "      <th>boc_price</th>\n",
       "      <th>date</th>\n",
       "      <th>time</th>\n",
       "    </tr>\n",
       "  </thead>\n",
       "  <tbody>\n",
       "    <tr>\n",
       "      <th>0</th>\n",
       "      <td>澳大利亚元</td>\n",
       "      <td>477.68</td>\n",
       "      <td>462.84</td>\n",
       "      <td>481.19</td>\n",
       "      <td>482.37</td>\n",
       "      <td>478.06</td>\n",
       "      <td>2019-07-11</td>\n",
       "      <td>21:29:24</td>\n",
       "    </tr>\n",
       "    <tr>\n",
       "      <th>1</th>\n",
       "      <td>加拿大元</td>\n",
       "      <td>523.92</td>\n",
       "      <td>507.37</td>\n",
       "      <td>527.78</td>\n",
       "      <td>529.06</td>\n",
       "      <td>525.22</td>\n",
       "      <td>2019-07-11</td>\n",
       "      <td>21:29:24</td>\n",
       "    </tr>\n",
       "    <tr>\n",
       "      <th>2</th>\n",
       "      <td>瑞士法郎</td>\n",
       "      <td>692.96</td>\n",
       "      <td>671.57</td>\n",
       "      <td>697.82</td>\n",
       "      <td>700.12</td>\n",
       "      <td>695.04</td>\n",
       "      <td>2019-07-11</td>\n",
       "      <td>21:29:24</td>\n",
       "    </tr>\n",
       "    <tr>\n",
       "      <th>3</th>\n",
       "      <td>欧元</td>\n",
       "      <td>770.34</td>\n",
       "      <td>746.41</td>\n",
       "      <td>776.03</td>\n",
       "      <td>777.75</td>\n",
       "      <td>773.13</td>\n",
       "      <td>2019-07-11</td>\n",
       "      <td>21:29:24</td>\n",
       "    </tr>\n",
       "    <tr>\n",
       "      <th>4</th>\n",
       "      <td>英镑</td>\n",
       "      <td>858.84</td>\n",
       "      <td>832.16</td>\n",
       "      <td>865.17</td>\n",
       "      <td>867.27</td>\n",
       "      <td>858.95</td>\n",
       "      <td>2019-07-11</td>\n",
       "      <td>21:29:24</td>\n",
       "    </tr>\n",
       "  </tbody>\n",
       "</table>\n",
       "</div>"
      ],
      "text/plain": [
       "    name current_buy cash_buy current_sell cash_sell boc_price        date  \\\n",
       "0  澳大利亚元      477.68   462.84       481.19    482.37    478.06  2019-07-11   \n",
       "1   加拿大元      523.92   507.37       527.78    529.06    525.22  2019-07-11   \n",
       "2   瑞士法郎      692.96   671.57       697.82    700.12    695.04  2019-07-11   \n",
       "3     欧元      770.34   746.41       776.03    777.75    773.13  2019-07-11   \n",
       "4     英镑      858.84   832.16       865.17    867.27    858.95  2019-07-11   \n",
       "\n",
       "       time  \n",
       "0  21:29:24  \n",
       "1  21:29:24  \n",
       "2  21:29:24  \n",
       "3  21:29:24  \n",
       "4  21:29:24  "
      ]
     },
     "execution_count": 39,
     "metadata": {},
     "output_type": "execute_result"
    }
   ],
   "source": [
    "df.head()"
   ]
  },
  {
   "cell_type": "code",
   "execution_count": null,
   "metadata": {
    "collapsed": true
   },
   "outputs": [],
   "source": []
  },
  {
   "cell_type": "code",
   "execution_count": null,
   "metadata": {
    "collapsed": true
   },
   "outputs": [],
   "source": [
    "cols = ['index_name', 'country', 'close', 'open', 'change', 'change_pct',\n",
    "       'tm_raw', 'dt_raw', 'change_3mth', 'change_6mth', 'change_ytd', 'change_12mth']\n",
    "def get_global_idx(url):\n",
    "    soup = get_soup(url)\n",
    "    table = soup.find('table', {'class':'table instruments'})\n",
    "    result_table = []\n",
    "    for tr in table.find_all('tr'):\n",
    "        if len(tr.find_all('td')) > 0:\n",
    "            row = []\n",
    "            for td in tr.find_all('td'):\n",
    "                txt = td.get_text().strip()\n",
    "                element = txt.split('\\n')\n",
    "                row.extend(element)\n",
    "            result_table.append(row)\n",
    "    df = pd.DataFrame(result_table, columns=cols)\n",
    "    df['updated'] = today\n",
    "    df['std_workday'] = workday_utc0\n",
    "    df = df.drop(['tm_raw', 'dt_raw'], axis=1)\n",
    "    df = df.loc[df.index.isin(['Dow Jones', 'NASDAQ 100', 'S&P 500', 'FTSE 100', 'DAX', 'CAC 40',\n",
    "                    'NIKKEI 225', 'Hang Seng', 'Shanghai Composite'])].reset_index(drop=True)\n",
    "    return df"
   ]
  }
 ],
 "metadata": {
  "kernelspec": {
   "display_name": "Python 3",
   "language": "python",
   "name": "python3"
  },
  "language_info": {
   "codemirror_mode": {
    "name": "ipython",
    "version": 3
   },
   "file_extension": ".py",
   "mimetype": "text/x-python",
   "name": "python",
   "nbconvert_exporter": "python",
   "pygments_lexer": "ipython3",
   "version": "3.6.0"
  }
 },
 "nbformat": 4,
 "nbformat_minor": 2
}
