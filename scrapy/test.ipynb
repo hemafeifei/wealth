{
 "cells": [
  {
   "cell_type": "code",
   "execution_count": 1,
   "metadata": {
    "collapsed": true
   },
   "outputs": [],
   "source": [
    "import pandas as pd\n",
    "import numpy as np\n",
    "# from urllib.request import urlopen\n",
    "from bs4 import BeautifulSoup\n",
    "from selenium import webdriver\n",
    "from datetime import datetime, timedelta\n",
    "\n",
    "\n",
    "chrome_path = '/Users/weizheng/PycharmProjects/tickets/chromedriver'\n",
    "\n",
    "\n",
    "url = 'https://danjuanapp.com/djmodule/value-center?channel=1300100141'\n",
    "today = str(datetime.now())[:10]\n",
    "\n",
    "def get_soup_eng_pr(url):\n",
    "    driver = webdriver.Chrome(executable_path=chrome_path)\n",
    "    # driver = webdriver.Firefox(executable_path=firefox_path)\n",
    "    driver.get(url)\n",
    "    html = driver.page_source\n",
    "    soup = BeautifulSoup(html, 'lxml')\n",
    "    driver.close()\n",
    "    return soup\n",
    "\n",
    "soup = get_soup_eng_pr(url)"
   ]
  },
  {
   "cell_type": "code",
   "execution_count": 18,
   "metadata": {
    "collapsed": false
   },
   "outputs": [
    {
     "data": {
      "text/plain": [
       "'2019-06-22'"
      ]
     },
     "execution_count": 18,
     "metadata": {},
     "output_type": "execute_result"
    }
   ],
   "source": [
    "str(datetime.now())[:10]"
   ]
  },
  {
   "cell_type": "code",
   "execution_count": 17,
   "metadata": {
    "collapsed": false
   },
   "outputs": [
    {
     "data": {
      "text/plain": [
       "True"
      ]
     },
     "execution_count": 17,
     "metadata": {},
     "output_type": "execute_result"
    }
   ],
   "source": [
    "'2019-06-21'  in soup.find(\"title\").get_text()"
   ]
  },
  {
   "cell_type": "code",
   "execution_count": 20,
   "metadata": {
    "collapsed": false
   },
   "outputs": [],
   "source": [
    "table = soup.find(\"div\", {'class':'out-row'})"
   ]
  },
  {
   "cell_type": "code",
   "execution_count": 24,
   "metadata": {
    "collapsed": false
   },
   "outputs": [
    {
     "data": {
      "text/plain": [
       "<div class=\"out-row\" style=\"height: 176.25rem;\"><a class=\"name bg-low\" href=\"https://danjuanapp.com/funding/501310?channel=1800100001&amp;source=guzhi__web_20171001\" style=\"top: 0rem;\"><div class=\"con\"><h1>标普价值</h1><small>SPACEVCP</small></div><div class=\"color-bar low\"></div></a><a class=\"name bg-low\" href=\"https://danjuanapp.com/funding/090010?channel=1800100001&amp;source=guzhi__web_20171001\" style=\"top: 3.75rem;\"><div class=\"con\"><h1>中证红利</h1><small>SH000922</small></div><div class=\"color-bar low\"></div></a><a class=\"name bg-low\" href=\"https://danjuanapp.com/funding/006255?channel=1800100001&amp;source=guzhi__web_20171001\" style=\"top: 7.5rem;\"><div class=\"con\"><h1>神奇公式</h1><small>CSI930949</small></div><div class=\"color-bar low\"></div></a><a class=\"name bg-low\" href=\"https://danjuanapp.com/funding/501029?channel=1800100001&amp;source=guzhi__web_20171001\" style=\"top: 11.25rem;\"><div class=\"con\"><h1>标普红利</h1><small>CSPSADRP</small></div><div class=\"color-bar low\"></div></a><a class=\"name bg-low\" href=\"https://danjuanapp.com/funding/070023?channel=1800100001&amp;source=guzhi__web_20171001\" style=\"top: 15rem;\"><div class=\"con\"><h1>基本面120</h1><small>SZ399702</small></div><div class=\"color-bar low\"></div></a><a class=\"name bg-mid\" href=\"https://danjuanapp.com/funding/240019?channel=1800100001&amp;source=guzhi__web_20171001\" style=\"top: 18.75rem;\"><div class=\"con\"><h1>中证银行</h1><small>SZ399986</small></div><div class=\"color-bar mid\"></div></a><a class=\"name bg-mid\" href=\"https://danjuanapp.com/funding/005279?channel=1800100001&amp;source=guzhi__web_20171001\" style=\"top: 22.5rem;\"><div class=\"con\"><h1>红利低波</h1><small>CSIH30269</small></div><div class=\"color-bar mid\"></div></a><a class=\"name bg-mid\" href=\"\" style=\"top: 26.25rem;\"><div class=\"con\"><h1>上证红利</h1><small>SH000015</small></div><div class=\"color-bar mid\"></div></a><a class=\"name bg-mid\" href=\"https://danjuanapp.com/funding/310398?channel=1800100001&amp;source=guzhi__web_20171001\" style=\"top: 30rem;\"><div class=\"con\"><h1>300价值</h1><small>SH000919</small></div><div class=\"color-bar mid\"></div></a><a class=\"name bg-mid\" href=\"https://danjuanapp.com/funding/501301?channel=1800100001&amp;source=guzhi__web_20171001\" style=\"top: 33.75rem;\"><div class=\"con\"><h1>香港大盘</h1><small>HSFML25</small></div><div class=\"color-bar mid\"></div></a><a class=\"name bg-mid\" href=\"https://danjuanapp.com/funding/160717?channel=1800100001&amp;source=guzhi__web_20171001\" style=\"top: 37.5rem;\"><div class=\"con\"><h1>国企指数</h1><small>HKHSCEI</small></div><div class=\"color-bar mid\"></div></a><a class=\"name bg-mid\" href=\"https://danjuanapp.com/funding/165312?channel=1800100001&amp;source=guzhi__web_20171001\" style=\"top: 41.25rem;\"><div class=\"con\"><h1>央视50</h1><small>SZ399550</small></div><div class=\"color-bar mid\"></div></a><a class=\"name bg-mid\" href=\"https://danjuanapp.com/funding/160716?channel=1800100001&amp;source=guzhi__web_20171001\" style=\"top: 45rem;\"><div class=\"con\"><h1>基本面50</h1><small>SH000925</small></div><div class=\"color-bar mid\"></div></a><a class=\"name bg-mid\" href=\"https://danjuanapp.com/funding/110003?channel=1800100001&amp;source=guzhi__web_20171001\" style=\"top: 48.75rem;\"><div class=\"con\"><h1>上证50</h1><small>SH000016</small></div><div class=\"color-bar mid\"></div></a><a class=\"name bg-mid\" href=\"https://danjuanapp.com/funding/000071?channel=1800100001&amp;source=guzhi__web_20171001\" style=\"top: 52.5rem;\"><div class=\"con\"><h1>恒生指数</h1><small>HKHSI</small></div><div class=\"color-bar mid\"></div></a><a class=\"name bg-mid\" href=\"https://danjuanapp.com/funding/040180?channel=1800100001&amp;source=guzhi__web_20171001\" style=\"top: 56.25rem;\"><div class=\"con\"><h1>上证180</h1><small>SH000010</small></div><div class=\"color-bar mid\"></div></a><a class=\"name bg-mid\" href=\"https://danjuanapp.com/funding/240014?channel=1800100001&amp;source=guzhi__web_20171001\" style=\"top: 60rem;\"><div class=\"con\"><h1>中证100</h1><small>SH000903</small></div><div class=\"color-bar mid\"></div></a><a class=\"name bg-mid\" href=\"https://danjuanapp.com/funding/501021?channel=1800100001&amp;source=guzhi__web_20171001\" style=\"top: 63.75rem;\"><div class=\"con\"><h1>香港中小</h1><small>SPHCMSHP</small></div><div class=\"color-bar mid\"></div></a><a class=\"name bg-mid\" href=\"https://danjuanapp.com/funding/100038?channel=1800100001&amp;source=guzhi__web_20171001\" style=\"top: 67.5rem;\"><div class=\"con\"><h1>沪深300</h1><small>SH000300</small></div><div class=\"color-bar mid\"></div></a><a class=\"name bg-mid\" href=\"https://danjuanapp.com/funding/530015?channel=1800100001&amp;source=guzhi__web_20171001\" style=\"top: 71.25rem;\"><div class=\"con\"><h1>基本面60</h1><small>SZ399701</small></div><div class=\"color-bar mid\"></div></a><a class=\"name bg-mid\" href=\"https://danjuanapp.com/funding/481012?channel=1800100001&amp;source=guzhi__web_20171001\" style=\"top: 75rem;\"><div class=\"con\"><h1>深证红利</h1><small>SZ399324</small></div><div class=\"color-bar mid\"></div></a><a class=\"name bg-mid\" href=\"https://danjuanapp.com/funding/005414?channel=1800100001&amp;source=guzhi__web_20171001\" style=\"top: 78.75rem;\"><div class=\"con\"><h1>国证A指</h1><small>SZ399317</small></div><div class=\"color-bar mid\"></div></a><a class=\"name bg-mid\" href=\"https://danjuanapp.com/funding/217016?channel=1800100001&amp;source=guzhi__web_20171001\" style=\"top: 82.5rem;\"><div class=\"con\"><h1>深证100</h1><small>SZ399330</small></div><div class=\"color-bar mid\"></div></a><a class=\"name bg-mid\" href=\"https://danjuanapp.com/funding/096001?channel=1800100001&amp;source=guzhi__web_20171001\" style=\"top: 86.25rem;\"><div class=\"con\"><h1>标普500</h1><small>SP500</small></div><div class=\"color-bar mid\"></div></a><a class=\"name bg-mid\" href=\"https://danjuanapp.com/funding/001064?channel=1800100001&amp;source=guzhi__web_20171001\" style=\"top: 90rem;\"><div class=\"con\"><h1>中证环保</h1><small>SH000827</small></div><div class=\"color-bar mid\"></div></a><a class=\"name bg-mid\" href=\"https://danjuanapp.com/funding/000968?channel=1800100001&amp;source=guzhi__web_20171001\" style=\"top: 93.75rem;\"><div class=\"con\"><h1>养老产业</h1><small>SZ399812</small></div><div class=\"color-bar mid\"></div></a><a class=\"name bg-mid\" href=\"https://danjuanapp.com/funding/163109?channel=1800100001&amp;source=guzhi__web_20171001\" style=\"top: 97.5rem;\"><div class=\"con\"><h1>深证成指</h1><small>SZ399001</small></div><div class=\"color-bar mid\"></div></a><a class=\"name bg-mid\" href=\"https://danjuanapp.com/funding/000478?channel=1800100001&amp;source=guzhi__web_20171001\" style=\"top: 101.25rem;\"><div class=\"con\"><h1>中证500</h1><small>SH000905</small></div><div class=\"color-bar mid\"></div></a><a class=\"name bg-mid\" href=\"https://danjuanapp.com/funding/001550?channel=1800100001&amp;source=guzhi__web_20171001\" style=\"top: 105rem;\"><div class=\"con\"><h1>医药100</h1><small>SH000978</small></div><div class=\"color-bar mid\"></div></a><a class=\"name bg-mid\" href=\"https://danjuanapp.com/funding/001180?channel=1800100001&amp;source=guzhi__web_20171001\" style=\"top: 108.75rem;\"><div class=\"con\"><h1>全指医药</h1><small>SH000991</small></div><div class=\"color-bar mid\"></div></a><a class=\"name bg-mid\" href=\"https://danjuanapp.com/funding/110026?channel=1800100001&amp;source=guzhi__web_20171001\" style=\"top: 112.5rem;\"><div class=\"con\"><h1>创业板</h1><small>SZ399006</small></div><div class=\"color-bar mid\"></div></a><a class=\"name bg-mid\" href=\"https://danjuanapp.com/funding/163115?channel=1800100001&amp;source=guzhi__web_20171001\" style=\"top: 116.25rem;\"><div class=\"con\"><h1>中证军工</h1><small>SZ399967</small></div><div class=\"color-bar mid\"></div></a><a class=\"name bg-high\" href=\"https://danjuanapp.com/funding/164824?channel=1800100001&amp;source=guzhi__web_20171001\" style=\"top: 120rem;\"><div class=\"con\"><h1>MSCI印度</h1><small>935600</small></div><div class=\"color-bar high\"></div></a><a class=\"name bg-high\" href=\"https://danjuanapp.com/funding/160213?channel=1800100001&amp;source=guzhi__web_20171001\" style=\"top: 123.75rem;\"><div class=\"con\"><h1>纳指100</h1><small>NDX</small></div><div class=\"color-bar high\"></div></a><a class=\"name bg-high\" href=\"https://danjuanapp.com/funding/002977?channel=1800100001&amp;source=guzhi__web_20171001\" style=\"top: 127.5rem;\"><div class=\"con\"><h1>全指可选</h1><small>SH000989</small></div><div class=\"color-bar high\"></div></a><a class=\"name bg-high\" href=\"https://danjuanapp.com/funding/160222?channel=1800100001&amp;source=guzhi__web_20171001\" style=\"top: 131.25rem;\"><div class=\"con\"><h1>食品饮料</h1><small>SH000807</small></div><div class=\"color-bar high\"></div></a><a class=\"name bg-high\" href=\"https://danjuanapp.com/funding/006098?channel=1800100001&amp;source=guzhi__web_20171001\" style=\"top: 135rem;\"><div class=\"con\"><h1>证券公司</h1><small>SZ399975</small></div><div class=\"color-bar high\"></div></a><a class=\"name bg-high\" href=\"https://danjuanapp.com/funding/000248?channel=1800100001&amp;source=guzhi__web_20171001\" style=\"top: 138.75rem;\"><div class=\"con\"><h1>主要消费</h1><small>SH000932</small></div><div class=\"color-bar high\"></div></a><a class=\"name bg-high\" href=\"https://danjuanapp.com/funding/002974?channel=1800100001&amp;source=guzhi__web_20171001\" style=\"top: 142.5rem;\"><div class=\"con\"><h1>全指信息</h1><small>SH000993</small></div><div class=\"color-bar high\"></div></a><a class=\"name bg-high\" href=\"https://danjuanapp.com/funding/164906?channel=1800100001&amp;source=guzhi__web_20171001\" style=\"top: 146.25rem;\"><div class=\"con\"><h1>中国互联</h1><small>CSIH11136</small></div><div class=\"color-bar high\"></div></a><a class=\"name bg-unsort\" href=\"https://danjuanapp.com/funding/501050?channel=1800100001&amp;source=guzhi__web_20171001\" style=\"top: 150rem;\"><div class=\"con\"><h1>50AH优选</h1><small>SH000170</small></div><div class=\"color-bar unsort\"></div></a><a class=\"name bg-unsort\" href=\"https://danjuanapp.com/funding/161724?channel=1800100001&amp;source=guzhi__web_20171001\" style=\"top: 153.75rem;\"><div class=\"con\"><h1>中证煤炭</h1><small>SZ399998</small></div><div class=\"color-bar unsort\"></div></a><a class=\"name bg-unsort\" href=\"https://danjuanapp.com/funding/003318?channel=1800100001&amp;source=guzhi__web_20171001\" style=\"top: 157.5rem;\"><div class=\"con\"><h1>500低波</h1><small>CSI930782</small></div><div class=\"color-bar unsort\"></div></a><a class=\"name bg-unsort\" href=\"\" style=\"top: 161.25rem;\"><div class=\"con\"><h1>新能源车</h1><small>SZ399417</small></div><div class=\"color-bar unsort\"></div></a><a class=\"name bg-unsort\" href=\"https://danjuanapp.com/funding/161725?channel=1800100001&amp;source=guzhi__web_20171001\" style=\"top: 165rem;\"><div class=\"con\"><h1>中证白酒</h1><small>SZ399997</small></div><div class=\"color-bar unsort\"></div></a><a class=\"name bg-unsort\" href=\"https://danjuanapp.com/funding/003646?channel=1800100001&amp;source=guzhi__web_20171001\" style=\"top: 168.75rem;\"><div class=\"con\"><h1>中证1000</h1><small>SH000852</small></div><div class=\"color-bar unsort\"></div></a><a class=\"name bg-unsort\" href=\"\" style=\"top: 172.5rem;\"><div class=\"con\"><h1>中概互联50</h1><small>CSIH30533</small></div><div class=\"color-bar unsort\"></div></a><div class=\"in-row\"><a class=\"row normal bg-low\" href=\"https://danjuanapp.com/funding/501310?channel=1800100001&amp;source=guzhi__web_20171001\"><div class=\"pe\">6.91</div><div class=\"pe-per\">9.98%</div><div class=\"pb\">0.73</div><div class=\"pb-per\">0.75%</div><div class=\"dyr\">4.47%</div><div class=\"roe\">10.62%</div><div class=\"begin\">2012-11-30</div><div class=\"buy-btn\"><button>购买</button></div></a><a class=\"row normal bg-low\" href=\"https://danjuanapp.com/funding/090010?channel=1800100001&amp;source=guzhi__web_20171001\"><div class=\"pe\">8.25</div><div class=\"pe-per\">26.91%</div><div class=\"pb\">1.01</div><div class=\"pb-per\">11.57%</div><div class=\"dyr\">4.07%</div><div class=\"roe\">12.22%</div><div class=\"begin\">2009-06-15</div><div class=\"buy-btn\"><button>购买</button></div></a><a class=\"row normal bg-low\" href=\"https://danjuanapp.com/funding/006255?channel=1800100001&amp;source=guzhi__web_20171001\"><div class=\"pe\">9.23</div><div class=\"pe-per\">4.72%</div><div class=\"pb\">1.44</div><div class=\"pb-per\">0.88%</div><div class=\"dyr\">2.75%</div><div class=\"roe\">15.54%</div><div class=\"begin\">2009-03-13</div><div class=\"buy-btn\"><button>购买</button></div></a><a class=\"row normal bg-low\" href=\"https://danjuanapp.com/funding/501029?channel=1800100001&amp;source=guzhi__web_20171001\"><div class=\"pe\">10.80</div><div class=\"pe-per\">25.76%</div><div class=\"pb\">1.37</div><div class=\"pb-per\">15.00%</div><div class=\"dyr\">6.10%</div><div class=\"roe\">12.70%</div><div class=\"begin\">2009-02-16</div><div class=\"buy-btn\"><button>购买</button></div></a><a class=\"row normal bg-low\" href=\"https://danjuanapp.com/funding/070023?channel=1800100001&amp;source=guzhi__web_20171001\"><div class=\"pe\">16.87</div><div class=\"pe-per\">27.52%</div><div class=\"pb\">2.07</div><div class=\"pb-per\">47.40%</div><div class=\"dyr\">1.64%</div><div class=\"roe\">12.29%</div><div class=\"begin\">2012-08-10</div><div class=\"buy-btn\"><button>购买</button></div></a><a class=\"row normal bg-mid\" href=\"https://danjuanapp.com/funding/240019?channel=1800100001&amp;source=guzhi__web_20171001\"><div class=\"pe\">6.92</div><div class=\"pe-per\">76.31%</div><div class=\"pb\">0.82</div><div class=\"pb-per\">8.91%</div><div class=\"dyr\">3.66%</div><div class=\"roe\">11.80%</div><div class=\"begin\">2013-07-16</div><div class=\"buy-btn\"><button>购买</button></div></a><a class=\"row normal bg-mid\" href=\"https://danjuanapp.com/funding/005279?channel=1800100001&amp;source=guzhi__web_20171001\"><div class=\"pe\">7.48</div><div class=\"pe-per\">38.52%</div><div class=\"pb\">0.93</div><div class=\"pb-per\">5.14%</div><div class=\"dyr\">4.02%</div><div class=\"roe\">12.44%</div><div class=\"begin\">2013-12-19</div><div class=\"buy-btn\"><button>购买</button></div></a><a class=\"row normal bg-mid\" href=\"\"><div class=\"pe\">7.70</div><div class=\"pe-per\">37.44%</div><div class=\"pb\">0.92</div><div class=\"pb-per\">6.28%</div><div class=\"dyr\">4.39%</div><div class=\"roe\">11.96%</div><div class=\"begin\">2012-08-08</div><div class=\"buy-btn\"><button>购买</button></div></a><a class=\"row normal bg-mid\" href=\"https://danjuanapp.com/funding/310398?channel=1800100001&amp;source=guzhi__web_20171001\"><div class=\"pe\">8.73</div><div class=\"pe-per\">38.96%</div><div class=\"pb\">1.01</div><div class=\"pb-per\">10.76%</div><div class=\"dyr\">3.49%</div><div class=\"roe\">11.54%</div><div class=\"begin\">2009-03-17</div><div class=\"buy-btn\"><button>购买</button></div></a><a class=\"row normal bg-mid\" href=\"https://danjuanapp.com/funding/501301?channel=1800100001&amp;source=guzhi__web_20171001\"><div class=\"pe\">8.95</div><div class=\"pe-per\">39.99%</div><div class=\"pb\">1.09</div><div class=\"pb-per\">15.96%</div><div class=\"dyr\">3.67%</div><div class=\"roe\">12.17%</div><div class=\"begin\">2009-06-15</div><div class=\"buy-btn\"><button>购买</button></div></a><a class=\"row normal bg-mid\" href=\"https://danjuanapp.com/funding/160717?channel=1800100001&amp;source=guzhi__web_20171001\"><div class=\"pe\">9.00</div><div class=\"pe-per\">63.29%</div><div class=\"pb\">1.05</div><div class=\"pb-per\">29.53%</div><div class=\"dyr\">3.66%</div><div class=\"roe\">11.63%</div><div class=\"begin\">2009-06-15</div><div class=\"buy-btn\"><button>购买</button></div></a><a class=\"row normal bg-mid\" href=\"https://danjuanapp.com/funding/165312?channel=1800100001&amp;source=guzhi__web_20171001\"><div class=\"pe\">9.66</div><div class=\"pe-per\">79.75%</div><div class=\"pb\">1.30</div><div class=\"pb-per\">49.59%</div><div class=\"dyr\">3.04%</div><div class=\"roe\">13.51%</div><div class=\"begin\">2012-06-06</div><div class=\"buy-btn\"><button>购买</button></div></a><a class=\"row normal bg-mid\" href=\"https://danjuanapp.com/funding/160716?channel=1800100001&amp;source=guzhi__web_20171001\"><div class=\"pe\">10.05</div><div class=\"pe-per\">63.33%</div><div class=\"pb\">1.17</div><div class=\"pb-per\">38.31%</div><div class=\"dyr\">2.98%</div><div class=\"roe\">11.61%</div><div class=\"begin\">2009-06-15</div><div class=\"buy-btn\"><button>购买</button></div></a><a class=\"row normal bg-mid\" href=\"https://danjuanapp.com/funding/110003?channel=1800100001&amp;source=guzhi__web_20171001\"><div class=\"pe\">10.19</div><div class=\"pe-per\">43.44%</div><div class=\"pb\">1.17</div><div class=\"pb-per\">19.40%</div><div class=\"dyr\">2.92%</div><div class=\"roe\">11.52%</div><div class=\"begin\">2009-06-15</div><div class=\"buy-btn\"><button>购买</button></div></a><a class=\"row normal bg-mid\" href=\"https://danjuanapp.com/funding/000071?channel=1800100001&amp;source=guzhi__web_20171001\"><div class=\"pe\">10.29</div><div class=\"pe-per\">51.15%</div><div class=\"pb\">1.16</div><div class=\"pb-per\">19.73%</div><div class=\"dyr\">3.69%</div><div class=\"roe\">11.26%</div><div class=\"begin\">2009-06-15</div><div class=\"buy-btn\"><button>购买</button></div></a><a class=\"row normal bg-mid\" href=\"https://danjuanapp.com/funding/040180?channel=1800100001&amp;source=guzhi__web_20171001\"><div class=\"pe\">11.21</div><div class=\"pe-per\">51.54%</div><div class=\"pb\">1.26</div><div class=\"pb-per\">29.29%</div><div class=\"dyr\">2.67%</div><div class=\"roe\">11.27%</div><div class=\"begin\">2009-05-04</div><div class=\"buy-btn\"><button>购买</button></div></a><a class=\"row normal bg-mid\" href=\"https://danjuanapp.com/funding/240014?channel=1800100001&amp;source=guzhi__web_20171001\"><div class=\"pe\">11.58</div><div class=\"pe-per\">59.89%</div><div class=\"pb\">1.34</div><div class=\"pb-per\">38.19%</div><div class=\"dyr\">2.59%</div><div class=\"roe\">11.54%</div><div class=\"begin\">2009-06-15</div><div class=\"buy-btn\"><button>购买</button></div></a><a class=\"row normal bg-mid\" href=\"https://danjuanapp.com/funding/501021?channel=1800100001&amp;source=guzhi__web_20171001\"><div class=\"pe\">12.20</div><div class=\"pe-per\">33.25%</div><div class=\"pb\">1.39</div><div class=\"pb-per\">39.41%</div><div class=\"dyr\">2.00%</div><div class=\"roe\">11.43%</div><div class=\"begin\">2011-06-02</div><div class=\"buy-btn\"><button>购买</button></div></a><a class=\"row normal bg-mid\" href=\"https://danjuanapp.com/funding/100038?channel=1800100001&amp;source=guzhi__web_20171001\"><div class=\"pe\">12.50</div><div class=\"pe-per\">50.08%</div><div class=\"pb\">1.41</div><div class=\"pb-per\">33.55%</div><div class=\"dyr\">2.39%</div><div class=\"roe\">11.30%</div><div class=\"begin\">2009-06-15</div><div class=\"buy-btn\"><button>购买</button></div></a><a class=\"row normal bg-mid\" href=\"https://danjuanapp.com/funding/530015?channel=1800100001&amp;source=guzhi__web_20171001\"><div class=\"pe\">16.01</div><div class=\"pe-per\">36.32%</div><div class=\"pb\">2.11</div><div class=\"pb-per\">65.64%</div><div class=\"dyr\">1.74%</div><div class=\"roe\">13.18%</div><div class=\"begin\">2012-08-10</div><div class=\"buy-btn\"><button>购买</button></div></a><a class=\"row normal bg-mid\" href=\"https://danjuanapp.com/funding/481012?channel=1800100001&amp;source=guzhi__web_20171001\"><div class=\"pe\">16.06</div><div class=\"pe-per\">54.92%</div><div class=\"pb\">2.31</div><div class=\"pb-per\">63.04%</div><div class=\"dyr\">1.99%</div><div class=\"roe\">14.35%</div><div class=\"begin\">2009-06-15</div><div class=\"buy-btn\"><button>购买</button></div></a><a class=\"row normal bg-mid\" href=\"https://danjuanapp.com/funding/005414?channel=1800100001&amp;source=guzhi__web_20171001\"><div class=\"pe\">17.14</div><div class=\"pe-per\">44.67%</div><div class=\"pb\">1.61</div><div class=\"pb-per\">16.16%</div><div class=\"dyr\">1.88%</div><div class=\"roe\">9.39%</div><div class=\"begin\">2009-06-15</div><div class=\"buy-btn\"><button>购买</button></div></a><a class=\"row normal bg-mid\" href=\"https://danjuanapp.com/funding/217016?channel=1800100001&amp;source=guzhi__web_20171001\"><div class=\"pe\">21.12</div><div class=\"pe-per\">51.11%</div><div class=\"pb\">2.72</div><div class=\"pb-per\">46.68%</div><div class=\"dyr\">1.28%</div><div class=\"roe\">12.89%</div><div class=\"begin\">2009-06-15</div><div class=\"buy-btn\"><button>购买</button></div></a><a class=\"row normal bg-mid\" href=\"https://danjuanapp.com/funding/096001?channel=1800100001&amp;source=guzhi__web_20171001\"><div class=\"pe\">21.54</div><div class=\"pe-per\">60.76%</div><div class=\"pb\">3.33</div><div class=\"pb-per\">95.53%</div><div class=\"dyr\">1.86%</div><div class=\"roe\">16.65%</div><div class=\"begin\">2012-01-05</div><div class=\"buy-btn\"><button>购买</button></div></a><a class=\"row normal bg-mid\" href=\"https://danjuanapp.com/funding/001064?channel=1800100001&amp;source=guzhi__web_20171001\"><div class=\"pe\">21.62</div><div class=\"pe-per\">9.41%</div><div class=\"pb\">2.12</div><div class=\"pb-per\">15.83%</div><div class=\"dyr\">1.61%</div><div class=\"roe\">9.82%</div><div class=\"begin\">2012-09-25</div><div class=\"buy-btn\"><button>购买</button></div></a><a class=\"row normal bg-mid\" href=\"https://danjuanapp.com/funding/000968?channel=1800100001&amp;source=guzhi__web_20171001\"><div class=\"pe\">22.69</div><div class=\"pe-per\">38.67%</div><div class=\"pb\">3.11</div><div class=\"pb-per\">66.94%</div><div class=\"dyr\">1.23%</div><div class=\"roe\">13.68%</div><div class=\"begin\">2014-06-06</div><div class=\"buy-btn\"><button>购买</button></div></a><a class=\"row normal bg-mid\" href=\"https://danjuanapp.com/funding/163109?channel=1800100001&amp;source=guzhi__web_20171001\"><div class=\"pe\">23.02</div><div class=\"pe-per\">49.60%</div><div class=\"pb\">2.40</div><div class=\"pb-per\">42.48%</div><div class=\"dyr\">1.20%</div><div class=\"roe\">10.41%</div><div class=\"begin\">2012-08-08</div><div class=\"buy-btn\"><button>购买</button></div></a><a class=\"row normal bg-mid\" href=\"https://danjuanapp.com/funding/000478?channel=1800100001&amp;source=guzhi__web_20171001\"><div class=\"pe\">23.85</div><div class=\"pe-per\">8.16%</div><div class=\"pb\">1.79</div><div class=\"pb-per\">5.13%</div><div class=\"dyr\">1.23%</div><div class=\"roe\">7.51%</div><div class=\"begin\">2009-06-15</div><div class=\"buy-btn\"><button>购买</button></div></a><a class=\"row normal bg-mid\" href=\"https://danjuanapp.com/funding/001550?channel=1800100001&amp;source=guzhi__web_20171001\"><div class=\"pe\">33.11</div><div class=\"pe-per\">28.60%</div><div class=\"pb\">3.99</div><div class=\"pb-per\">33.96%</div><div class=\"dyr\">0.88%</div><div class=\"roe\">12.05%</div><div class=\"begin\">2012-08-10</div><div class=\"buy-btn\"><button>购买</button></div></a><a class=\"row normal bg-mid\" href=\"https://danjuanapp.com/funding/001180?channel=1800100001&amp;source=guzhi__web_20171001\"><div class=\"pe\">33.70</div><div class=\"pe-per\">28.33%</div><div class=\"pb\">3.50</div><div class=\"pb-per\">13.30%</div><div class=\"dyr\">0.87%</div><div class=\"roe\">10.38%</div><div class=\"begin\">2011-08-02</div><div class=\"buy-btn\"><button>购买</button></div></a><a class=\"row normal bg-mid\" href=\"https://danjuanapp.com/funding/110026?channel=1800100001&amp;source=guzhi__web_20171001\"><div class=\"pe\">49.15</div><div class=\"pe-per\">48.66%</div><div class=\"pb\">4.39</div><div class=\"pb-per\">39.48%</div><div class=\"dyr\">0.52%</div><div class=\"roe\">8.94%</div><div class=\"begin\">2010-06-01</div><div class=\"buy-btn\"><button>购买</button></div></a><a class=\"row normal bg-mid\" href=\"https://danjuanapp.com/funding/163115?channel=1800100001&amp;source=guzhi__web_20171001\"><div class=\"pe\">63.62</div><div class=\"pe-per\">22.89%</div><div class=\"pb\">2.45</div><div class=\"pb-per\">14.96%</div><div class=\"dyr\">0.35%</div><div class=\"roe\">3.85%</div><div class=\"begin\">2013-12-26</div><div class=\"buy-btn\"><button>购买</button></div></a><a class=\"row normal bg-high\" href=\"https://danjuanapp.com/funding/164824?channel=1800100001&amp;source=guzhi__web_20171001\"><div class=\"pe\">22.92</div><div class=\"pe-per\">86.20%</div><div class=\"pb\">3.09</div><div class=\"pb-per\">86.80%</div><div class=\"dyr\">1.66%</div><div class=\"roe\">13.64%</div><div class=\"begin\">2012-04-04</div><div class=\"buy-btn\"><button>购买</button></div></a><a class=\"row normal bg-high\" href=\"https://danjuanapp.com/funding/160213?channel=1800100001&amp;source=guzhi__web_20171001\"><div class=\"pe\">24.94</div><div class=\"pe-per\">71.92%</div><div class=\"pb\">5.93</div><div class=\"pb-per\">98.43%</div><div class=\"dyr\">0.90%</div><div class=\"roe\">23.79%</div><div class=\"begin\">2012-01-05</div><div class=\"buy-btn\"><button>购买</button></div></a><a class=\"row normal bg-high\" href=\"https://danjuanapp.com/funding/002977?channel=1800100001&amp;source=guzhi__web_20171001\"><div class=\"pe\">25.54</div><div class=\"pe-per\">72.61%</div><div class=\"pb\">1.97</div><div class=\"pb-per\">12.57%</div><div class=\"dyr\">1.95%</div><div class=\"roe\">7.70%</div><div class=\"begin\">2011-08-02</div><div class=\"buy-btn\"><button>购买</button></div></a><a class=\"row normal bg-high\" href=\"https://danjuanapp.com/funding/160222?channel=1800100001&amp;source=guzhi__web_20171001\"><div class=\"pe\">30.56</div><div class=\"pe-per\">82.20%</div><div class=\"pb\">6.55</div><div class=\"pb-per\">97.93%</div><div class=\"dyr\">1.32%</div><div class=\"roe\">21.42%</div><div class=\"begin\">2012-02-17</div><div class=\"buy-btn\"><button>购买</button></div></a><a class=\"row normal bg-high\" href=\"https://danjuanapp.com/funding/006098?channel=1800100001&amp;source=guzhi__web_20171001\"><div class=\"pe\">33.65</div><div class=\"pe-per\">83.15%</div><div class=\"pb\">1.74</div><div class=\"pb-per\">34.25%</div><div class=\"dyr\">1.11%</div><div class=\"roe\">5.19%</div><div class=\"begin\">2013-07-15</div><div class=\"buy-btn\"><button>购买</button></div></a><a class=\"row normal bg-high\" href=\"https://danjuanapp.com/funding/000248?channel=1800100001&amp;source=guzhi__web_20171001\"><div class=\"pe\">33.78</div><div class=\"pe-per\">73.64%</div><div class=\"pb\">6.08</div><div class=\"pb-per\">84.78%</div><div class=\"dyr\">1.28%</div><div class=\"roe\">18.01%</div><div class=\"begin\">2009-07-03</div><div class=\"buy-btn\"><button>购买</button></div></a><a class=\"row normal bg-high\" href=\"https://danjuanapp.com/funding/002974?channel=1800100001&amp;source=guzhi__web_20171001\"><div class=\"pe\">68.44</div><div class=\"pe-per\">87.74%</div><div class=\"pb\">3.34</div><div class=\"pb-per\">26.76%</div><div class=\"dyr\">0.65%</div><div class=\"roe\">4.88%</div><div class=\"begin\">2011-08-02</div><div class=\"buy-btn\"><button>购买</button></div></a><a class=\"row normal bg-high\" href=\"https://danjuanapp.com/funding/164906?channel=1800100001&amp;source=guzhi__web_20171001\"><div class=\"pe\">72.50</div><div class=\"pe-per\">95.62%</div><div class=\"pb\">4.98</div><div class=\"pb-per\">3.13%</div><div class=\"dyr\">0.08%</div><div class=\"roe\">6.86%</div><div class=\"begin\">2012-11-26</div><div class=\"buy-btn\"><button>购买</button></div></a><a class=\"row normal bg-unsort\" href=\"https://danjuanapp.com/funding/501050?channel=1800100001&amp;source=guzhi__web_20171001\"><div class=\"pe\">8.37</div><div class=\"pe-per\">51.80%</div><div class=\"pb\">0.96</div><div class=\"pb-per\">50.87%</div><div class=\"dyr\">3.56%</div><div class=\"roe\">11.50%</div><div class=\"begin\">2015-12-14</div><div class=\"buy-btn\"><button>购买</button></div></a><a class=\"row normal bg-unsort\" href=\"https://danjuanapp.com/funding/161724?channel=1800100001&amp;source=guzhi__web_20171001\"><div class=\"pe\">9.81</div><div class=\"pe-per\">15.20%</div><div class=\"pb\">1.11</div><div class=\"pb-per\">16.24%</div><div class=\"dyr\">3.24%</div><div class=\"roe\">11.35%</div><div class=\"begin\">2015-02-13</div><div class=\"buy-btn\"><button>购买</button></div></a><a class=\"row normal bg-unsort\" href=\"https://danjuanapp.com/funding/003318?channel=1800100001&amp;source=guzhi__web_20171001\"><div class=\"pe\">18.21</div><div class=\"pe-per\">6.09%</div><div class=\"pb\">1.45</div><div class=\"pb-per\">15.23%</div><div class=\"dyr\">1.69%</div><div class=\"roe\">7.99%</div><div class=\"begin\">2016-02-04</div><div class=\"buy-btn\"><button>购买</button></div></a><a class=\"row normal bg-unsort\" href=\"\"><div class=\"pe\">21.78</div><div class=\"pe-per\">27.61%</div><div class=\"pb\">1.93</div><div class=\"pb-per\">12.01%</div><div class=\"dyr\">2.36%</div><div class=\"roe\">8.84%</div><div class=\"begin\">2014-09-24</div><div class=\"buy-btn\"><button>购买</button></div></a><a class=\"row normal bg-unsort\" href=\"https://danjuanapp.com/funding/161725?channel=1800100001&amp;source=guzhi__web_20171001\"><div class=\"pe\">29.72</div><div class=\"pe-per\">76.21%</div><div class=\"pb\">7.26</div><div class=\"pb-per\">90.61%</div><div class=\"dyr\">1.23%</div><div class=\"roe\">24.44%</div><div class=\"begin\">2015-01-21</div><div class=\"buy-btn\"><button>购买</button></div></a><a class=\"row normal bg-unsort\" href=\"https://danjuanapp.com/funding/003646?channel=1800100001&amp;source=guzhi__web_20171001\"><div class=\"pe\">37.95</div><div class=\"pe-per\">23.73%</div><div class=\"pb\">2.18</div><div class=\"pb-per\">17.60%</div><div class=\"dyr\">1.03%</div><div class=\"roe\">5.74%</div><div class=\"begin\">2014-10-17</div><div class=\"buy-btn\"><button>购买</button></div></a><a class=\"row normal bg-unsort\" href=\"\"><div class=\"pe\">72.50</div><div class=\"pe-per\">91.24%</div><div class=\"pb\">4.98</div><div class=\"pb-per\">5.14%</div><div class=\"dyr\">0.08%</div><div class=\"roe\">6.86%</div><div class=\"begin\">2014-12-29</div><div class=\"buy-btn\"><button>购买</button></div></a></div></div>"
      ]
     },
     "execution_count": 24,
     "metadata": {},
     "output_type": "execute_result"
    }
   ],
   "source": [
    "table"
   ]
  },
  {
   "cell_type": "code",
   "execution_count": 25,
   "metadata": {
    "collapsed": false
   },
   "outputs": [
    {
     "data": {
      "text/plain": [
       "<a class=\"name bg-low\" href=\"https://danjuanapp.com/funding/501310?channel=1800100001&amp;source=guzhi__web_20171001\" style=\"top: 0rem;\"><div class=\"con\"><h1>标普价值</h1><small>SPACEVCP</small></div><div class=\"color-bar low\"></div></a>"
      ]
     },
     "execution_count": 25,
     "metadata": {},
     "output_type": "execute_result"
    }
   ],
   "source": [
    "table.find('a')"
   ]
  },
  {
   "cell_type": "code",
   "execution_count": 58,
   "metadata": {
    "collapsed": false
   },
   "outputs": [
    {
     "name": "stdout",
     "output_type": "stream",
     "text": [
      "47\n",
      "47\n"
     ]
    }
   ],
   "source": [
    "name = table.find_all('a', {'class': (lambda value: value.startswith('name'))})\n",
    "print(len(name))\n",
    "dinfo = table.find_all('a', {'class': (lambda value: value.startswith('row'))})\n",
    "print(len(dinfo))"
   ]
  },
  {
   "cell_type": "code",
   "execution_count": 61,
   "metadata": {
    "collapsed": false
   },
   "outputs": [
    {
     "data": {
      "text/plain": [
       "[<a class=\"name bg-low\" href=\"https://danjuanapp.com/funding/501310?channel=1800100001&amp;source=guzhi__web_20171001\" style=\"top: 0rem;\"><div class=\"con\"><h1>标普价值</h1><small>SPACEVCP</small></div><div class=\"color-bar low\"></div></a>,\n",
       " <a class=\"name bg-low\" href=\"https://danjuanapp.com/funding/090010?channel=1800100001&amp;source=guzhi__web_20171001\" style=\"top: 3.75rem;\"><div class=\"con\"><h1>中证红利</h1><small>SH000922</small></div><div class=\"color-bar low\"></div></a>,\n",
       " <a class=\"name bg-low\" href=\"https://danjuanapp.com/funding/006255?channel=1800100001&amp;source=guzhi__web_20171001\" style=\"top: 7.5rem;\"><div class=\"con\"><h1>神奇公式</h1><small>CSI930949</small></div><div class=\"color-bar low\"></div></a>,\n",
       " <a class=\"name bg-low\" href=\"https://danjuanapp.com/funding/501029?channel=1800100001&amp;source=guzhi__web_20171001\" style=\"top: 11.25rem;\"><div class=\"con\"><h1>标普红利</h1><small>CSPSADRP</small></div><div class=\"color-bar low\"></div></a>,\n",
       " <a class=\"name bg-low\" href=\"https://danjuanapp.com/funding/070023?channel=1800100001&amp;source=guzhi__web_20171001\" style=\"top: 15rem;\"><div class=\"con\"><h1>基本面120</h1><small>SZ399702</small></div><div class=\"color-bar low\"></div></a>,\n",
       " <a class=\"name bg-mid\" href=\"https://danjuanapp.com/funding/240019?channel=1800100001&amp;source=guzhi__web_20171001\" style=\"top: 18.75rem;\"><div class=\"con\"><h1>中证银行</h1><small>SZ399986</small></div><div class=\"color-bar mid\"></div></a>,\n",
       " <a class=\"name bg-mid\" href=\"https://danjuanapp.com/funding/005279?channel=1800100001&amp;source=guzhi__web_20171001\" style=\"top: 22.5rem;\"><div class=\"con\"><h1>红利低波</h1><small>CSIH30269</small></div><div class=\"color-bar mid\"></div></a>,\n",
       " <a class=\"name bg-mid\" href=\"\" style=\"top: 26.25rem;\"><div class=\"con\"><h1>上证红利</h1><small>SH000015</small></div><div class=\"color-bar mid\"></div></a>,\n",
       " <a class=\"name bg-mid\" href=\"https://danjuanapp.com/funding/310398?channel=1800100001&amp;source=guzhi__web_20171001\" style=\"top: 30rem;\"><div class=\"con\"><h1>300价值</h1><small>SH000919</small></div><div class=\"color-bar mid\"></div></a>,\n",
       " <a class=\"name bg-mid\" href=\"https://danjuanapp.com/funding/501301?channel=1800100001&amp;source=guzhi__web_20171001\" style=\"top: 33.75rem;\"><div class=\"con\"><h1>香港大盘</h1><small>HSFML25</small></div><div class=\"color-bar mid\"></div></a>,\n",
       " <a class=\"name bg-mid\" href=\"https://danjuanapp.com/funding/160717?channel=1800100001&amp;source=guzhi__web_20171001\" style=\"top: 37.5rem;\"><div class=\"con\"><h1>国企指数</h1><small>HKHSCEI</small></div><div class=\"color-bar mid\"></div></a>,\n",
       " <a class=\"name bg-mid\" href=\"https://danjuanapp.com/funding/165312?channel=1800100001&amp;source=guzhi__web_20171001\" style=\"top: 41.25rem;\"><div class=\"con\"><h1>央视50</h1><small>SZ399550</small></div><div class=\"color-bar mid\"></div></a>,\n",
       " <a class=\"name bg-mid\" href=\"https://danjuanapp.com/funding/160716?channel=1800100001&amp;source=guzhi__web_20171001\" style=\"top: 45rem;\"><div class=\"con\"><h1>基本面50</h1><small>SH000925</small></div><div class=\"color-bar mid\"></div></a>,\n",
       " <a class=\"name bg-mid\" href=\"https://danjuanapp.com/funding/110003?channel=1800100001&amp;source=guzhi__web_20171001\" style=\"top: 48.75rem;\"><div class=\"con\"><h1>上证50</h1><small>SH000016</small></div><div class=\"color-bar mid\"></div></a>,\n",
       " <a class=\"name bg-mid\" href=\"https://danjuanapp.com/funding/000071?channel=1800100001&amp;source=guzhi__web_20171001\" style=\"top: 52.5rem;\"><div class=\"con\"><h1>恒生指数</h1><small>HKHSI</small></div><div class=\"color-bar mid\"></div></a>,\n",
       " <a class=\"name bg-mid\" href=\"https://danjuanapp.com/funding/040180?channel=1800100001&amp;source=guzhi__web_20171001\" style=\"top: 56.25rem;\"><div class=\"con\"><h1>上证180</h1><small>SH000010</small></div><div class=\"color-bar mid\"></div></a>,\n",
       " <a class=\"name bg-mid\" href=\"https://danjuanapp.com/funding/240014?channel=1800100001&amp;source=guzhi__web_20171001\" style=\"top: 60rem;\"><div class=\"con\"><h1>中证100</h1><small>SH000903</small></div><div class=\"color-bar mid\"></div></a>,\n",
       " <a class=\"name bg-mid\" href=\"https://danjuanapp.com/funding/501021?channel=1800100001&amp;source=guzhi__web_20171001\" style=\"top: 63.75rem;\"><div class=\"con\"><h1>香港中小</h1><small>SPHCMSHP</small></div><div class=\"color-bar mid\"></div></a>,\n",
       " <a class=\"name bg-mid\" href=\"https://danjuanapp.com/funding/100038?channel=1800100001&amp;source=guzhi__web_20171001\" style=\"top: 67.5rem;\"><div class=\"con\"><h1>沪深300</h1><small>SH000300</small></div><div class=\"color-bar mid\"></div></a>,\n",
       " <a class=\"name bg-mid\" href=\"https://danjuanapp.com/funding/530015?channel=1800100001&amp;source=guzhi__web_20171001\" style=\"top: 71.25rem;\"><div class=\"con\"><h1>基本面60</h1><small>SZ399701</small></div><div class=\"color-bar mid\"></div></a>,\n",
       " <a class=\"name bg-mid\" href=\"https://danjuanapp.com/funding/481012?channel=1800100001&amp;source=guzhi__web_20171001\" style=\"top: 75rem;\"><div class=\"con\"><h1>深证红利</h1><small>SZ399324</small></div><div class=\"color-bar mid\"></div></a>,\n",
       " <a class=\"name bg-mid\" href=\"https://danjuanapp.com/funding/005414?channel=1800100001&amp;source=guzhi__web_20171001\" style=\"top: 78.75rem;\"><div class=\"con\"><h1>国证A指</h1><small>SZ399317</small></div><div class=\"color-bar mid\"></div></a>,\n",
       " <a class=\"name bg-mid\" href=\"https://danjuanapp.com/funding/217016?channel=1800100001&amp;source=guzhi__web_20171001\" style=\"top: 82.5rem;\"><div class=\"con\"><h1>深证100</h1><small>SZ399330</small></div><div class=\"color-bar mid\"></div></a>,\n",
       " <a class=\"name bg-mid\" href=\"https://danjuanapp.com/funding/096001?channel=1800100001&amp;source=guzhi__web_20171001\" style=\"top: 86.25rem;\"><div class=\"con\"><h1>标普500</h1><small>SP500</small></div><div class=\"color-bar mid\"></div></a>,\n",
       " <a class=\"name bg-mid\" href=\"https://danjuanapp.com/funding/001064?channel=1800100001&amp;source=guzhi__web_20171001\" style=\"top: 90rem;\"><div class=\"con\"><h1>中证环保</h1><small>SH000827</small></div><div class=\"color-bar mid\"></div></a>,\n",
       " <a class=\"name bg-mid\" href=\"https://danjuanapp.com/funding/000968?channel=1800100001&amp;source=guzhi__web_20171001\" style=\"top: 93.75rem;\"><div class=\"con\"><h1>养老产业</h1><small>SZ399812</small></div><div class=\"color-bar mid\"></div></a>,\n",
       " <a class=\"name bg-mid\" href=\"https://danjuanapp.com/funding/163109?channel=1800100001&amp;source=guzhi__web_20171001\" style=\"top: 97.5rem;\"><div class=\"con\"><h1>深证成指</h1><small>SZ399001</small></div><div class=\"color-bar mid\"></div></a>,\n",
       " <a class=\"name bg-mid\" href=\"https://danjuanapp.com/funding/000478?channel=1800100001&amp;source=guzhi__web_20171001\" style=\"top: 101.25rem;\"><div class=\"con\"><h1>中证500</h1><small>SH000905</small></div><div class=\"color-bar mid\"></div></a>,\n",
       " <a class=\"name bg-mid\" href=\"https://danjuanapp.com/funding/001550?channel=1800100001&amp;source=guzhi__web_20171001\" style=\"top: 105rem;\"><div class=\"con\"><h1>医药100</h1><small>SH000978</small></div><div class=\"color-bar mid\"></div></a>,\n",
       " <a class=\"name bg-mid\" href=\"https://danjuanapp.com/funding/001180?channel=1800100001&amp;source=guzhi__web_20171001\" style=\"top: 108.75rem;\"><div class=\"con\"><h1>全指医药</h1><small>SH000991</small></div><div class=\"color-bar mid\"></div></a>,\n",
       " <a class=\"name bg-mid\" href=\"https://danjuanapp.com/funding/110026?channel=1800100001&amp;source=guzhi__web_20171001\" style=\"top: 112.5rem;\"><div class=\"con\"><h1>创业板</h1><small>SZ399006</small></div><div class=\"color-bar mid\"></div></a>,\n",
       " <a class=\"name bg-mid\" href=\"https://danjuanapp.com/funding/163115?channel=1800100001&amp;source=guzhi__web_20171001\" style=\"top: 116.25rem;\"><div class=\"con\"><h1>中证军工</h1><small>SZ399967</small></div><div class=\"color-bar mid\"></div></a>,\n",
       " <a class=\"name bg-high\" href=\"https://danjuanapp.com/funding/164824?channel=1800100001&amp;source=guzhi__web_20171001\" style=\"top: 120rem;\"><div class=\"con\"><h1>MSCI印度</h1><small>935600</small></div><div class=\"color-bar high\"></div></a>,\n",
       " <a class=\"name bg-high\" href=\"https://danjuanapp.com/funding/160213?channel=1800100001&amp;source=guzhi__web_20171001\" style=\"top: 123.75rem;\"><div class=\"con\"><h1>纳指100</h1><small>NDX</small></div><div class=\"color-bar high\"></div></a>,\n",
       " <a class=\"name bg-high\" href=\"https://danjuanapp.com/funding/002977?channel=1800100001&amp;source=guzhi__web_20171001\" style=\"top: 127.5rem;\"><div class=\"con\"><h1>全指可选</h1><small>SH000989</small></div><div class=\"color-bar high\"></div></a>,\n",
       " <a class=\"name bg-high\" href=\"https://danjuanapp.com/funding/160222?channel=1800100001&amp;source=guzhi__web_20171001\" style=\"top: 131.25rem;\"><div class=\"con\"><h1>食品饮料</h1><small>SH000807</small></div><div class=\"color-bar high\"></div></a>,\n",
       " <a class=\"name bg-high\" href=\"https://danjuanapp.com/funding/006098?channel=1800100001&amp;source=guzhi__web_20171001\" style=\"top: 135rem;\"><div class=\"con\"><h1>证券公司</h1><small>SZ399975</small></div><div class=\"color-bar high\"></div></a>,\n",
       " <a class=\"name bg-high\" href=\"https://danjuanapp.com/funding/000248?channel=1800100001&amp;source=guzhi__web_20171001\" style=\"top: 138.75rem;\"><div class=\"con\"><h1>主要消费</h1><small>SH000932</small></div><div class=\"color-bar high\"></div></a>,\n",
       " <a class=\"name bg-high\" href=\"https://danjuanapp.com/funding/002974?channel=1800100001&amp;source=guzhi__web_20171001\" style=\"top: 142.5rem;\"><div class=\"con\"><h1>全指信息</h1><small>SH000993</small></div><div class=\"color-bar high\"></div></a>,\n",
       " <a class=\"name bg-high\" href=\"https://danjuanapp.com/funding/164906?channel=1800100001&amp;source=guzhi__web_20171001\" style=\"top: 146.25rem;\"><div class=\"con\"><h1>中国互联</h1><small>CSIH11136</small></div><div class=\"color-bar high\"></div></a>,\n",
       " <a class=\"name bg-unsort\" href=\"https://danjuanapp.com/funding/501050?channel=1800100001&amp;source=guzhi__web_20171001\" style=\"top: 150rem;\"><div class=\"con\"><h1>50AH优选</h1><small>SH000170</small></div><div class=\"color-bar unsort\"></div></a>,\n",
       " <a class=\"name bg-unsort\" href=\"https://danjuanapp.com/funding/161724?channel=1800100001&amp;source=guzhi__web_20171001\" style=\"top: 153.75rem;\"><div class=\"con\"><h1>中证煤炭</h1><small>SZ399998</small></div><div class=\"color-bar unsort\"></div></a>,\n",
       " <a class=\"name bg-unsort\" href=\"https://danjuanapp.com/funding/003318?channel=1800100001&amp;source=guzhi__web_20171001\" style=\"top: 157.5rem;\"><div class=\"con\"><h1>500低波</h1><small>CSI930782</small></div><div class=\"color-bar unsort\"></div></a>,\n",
       " <a class=\"name bg-unsort\" href=\"\" style=\"top: 161.25rem;\"><div class=\"con\"><h1>新能源车</h1><small>SZ399417</small></div><div class=\"color-bar unsort\"></div></a>,\n",
       " <a class=\"name bg-unsort\" href=\"https://danjuanapp.com/funding/161725?channel=1800100001&amp;source=guzhi__web_20171001\" style=\"top: 165rem;\"><div class=\"con\"><h1>中证白酒</h1><small>SZ399997</small></div><div class=\"color-bar unsort\"></div></a>,\n",
       " <a class=\"name bg-unsort\" href=\"https://danjuanapp.com/funding/003646?channel=1800100001&amp;source=guzhi__web_20171001\" style=\"top: 168.75rem;\"><div class=\"con\"><h1>中证1000</h1><small>SH000852</small></div><div class=\"color-bar unsort\"></div></a>,\n",
       " <a class=\"name bg-unsort\" href=\"\" style=\"top: 172.5rem;\"><div class=\"con\"><h1>中概互联50</h1><small>CSIH30533</small></div><div class=\"color-bar unsort\"></div></a>]"
      ]
     },
     "execution_count": 61,
     "metadata": {},
     "output_type": "execute_result"
    }
   ],
   "source": [
    "name"
   ]
  },
  {
   "cell_type": "code",
   "execution_count": 65,
   "metadata": {
    "collapsed": false
   },
   "outputs": [
    {
     "data": {
      "text/plain": [
       "'标普价值'"
      ]
     },
     "execution_count": 65,
     "metadata": {},
     "output_type": "execute_result"
    }
   ],
   "source": [
    "name[0].find('h1').get_text()"
   ]
  },
  {
   "cell_type": "code",
   "execution_count": 67,
   "metadata": {
    "collapsed": false
   },
   "outputs": [],
   "source": [
    "name_table = []\n",
    "for row in name:\n",
    "    name_list = []\n",
    "    name_cn = row.find('h1').get_text()\n",
    "    name_code = row.find('small').get_text()\n",
    "    name_list = [name_cn, name_code]\n",
    "    name_table.append(name_list)"
   ]
  },
  {
   "cell_type": "code",
   "execution_count": 85,
   "metadata": {
    "collapsed": false
   },
   "outputs": [
    {
     "data": {
      "text/plain": [
       "<a class=\"row normal bg-low\" href=\"https://danjuanapp.com/funding/501310?channel=1800100001&amp;source=guzhi__web_20171001\"><div class=\"pe\">6.91</div><div class=\"pe-per\">9.98%</div><div class=\"pb\">0.73</div><div class=\"pb-per\">0.75%</div><div class=\"dyr\">4.47%</div><div class=\"roe\">10.62%</div><div class=\"begin\">2012-11-30</div><div class=\"buy-btn\"><button>购买</button></div></a>"
      ]
     },
     "execution_count": 85,
     "metadata": {},
     "output_type": "execute_result"
    }
   ],
   "source": [
    "dinfo[0]"
   ]
  },
  {
   "cell_type": "code",
   "execution_count": 91,
   "metadata": {
    "collapsed": false
   },
   "outputs": [],
   "source": [
    "info_table = []\n",
    "for row in dinfo:\n",
    "    info_list = []\n",
    "    pe = row.find('div', {'class':'pe'}).get_text()\n",
    "    pe_pct = row.find('div', {'class':\"pe-per\"}).get_text()\n",
    "    pb = row.find('div', {'class':'pb'}).get_text()\n",
    "    pb_pct = row.find('div', {'class':'pb-per'}).get_text()\n",
    "    dyr = row.find('div', {'class':'dyr'}).get_text()\n",
    "    roe = row.find('div', {'class':'roe'}).get_text()\n",
    "    since = row.find('div', {'class':'begin'}).get_text()\n",
    "    info_list = [pe, pe_pct, pb, pb_pct, dyr, roe, since]\n",
    "    info_table.append(info_list)    "
   ]
  },
  {
   "cell_type": "code",
   "execution_count": 92,
   "metadata": {
    "collapsed": false
   },
   "outputs": [
    {
     "data": {
      "text/html": [
       "<div>\n",
       "<style>\n",
       "    .dataframe thead tr:only-child th {\n",
       "        text-align: right;\n",
       "    }\n",
       "\n",
       "    .dataframe thead th {\n",
       "        text-align: left;\n",
       "    }\n",
       "\n",
       "    .dataframe tbody tr th {\n",
       "        vertical-align: top;\n",
       "    }\n",
       "</style>\n",
       "<table border=\"1\" class=\"dataframe\">\n",
       "  <thead>\n",
       "    <tr style=\"text-align: right;\">\n",
       "      <th></th>\n",
       "      <th>0</th>\n",
       "      <th>1</th>\n",
       "      <th>2</th>\n",
       "      <th>3</th>\n",
       "      <th>4</th>\n",
       "      <th>5</th>\n",
       "      <th>6</th>\n",
       "    </tr>\n",
       "  </thead>\n",
       "  <tbody>\n",
       "    <tr>\n",
       "      <th>0</th>\n",
       "      <td>6.91</td>\n",
       "      <td>9.98%</td>\n",
       "      <td>0.73</td>\n",
       "      <td>0.75%</td>\n",
       "      <td>4.47%</td>\n",
       "      <td>10.62%</td>\n",
       "      <td>2012-11-30</td>\n",
       "    </tr>\n",
       "    <tr>\n",
       "      <th>1</th>\n",
       "      <td>8.25</td>\n",
       "      <td>26.91%</td>\n",
       "      <td>1.01</td>\n",
       "      <td>11.57%</td>\n",
       "      <td>4.07%</td>\n",
       "      <td>12.22%</td>\n",
       "      <td>2009-06-15</td>\n",
       "    </tr>\n",
       "    <tr>\n",
       "      <th>2</th>\n",
       "      <td>9.23</td>\n",
       "      <td>4.72%</td>\n",
       "      <td>1.44</td>\n",
       "      <td>0.88%</td>\n",
       "      <td>2.75%</td>\n",
       "      <td>15.54%</td>\n",
       "      <td>2009-03-13</td>\n",
       "    </tr>\n",
       "    <tr>\n",
       "      <th>3</th>\n",
       "      <td>10.80</td>\n",
       "      <td>25.76%</td>\n",
       "      <td>1.37</td>\n",
       "      <td>15.00%</td>\n",
       "      <td>6.10%</td>\n",
       "      <td>12.70%</td>\n",
       "      <td>2009-02-16</td>\n",
       "    </tr>\n",
       "    <tr>\n",
       "      <th>4</th>\n",
       "      <td>16.87</td>\n",
       "      <td>27.52%</td>\n",
       "      <td>2.07</td>\n",
       "      <td>47.40%</td>\n",
       "      <td>1.64%</td>\n",
       "      <td>12.29%</td>\n",
       "      <td>2012-08-10</td>\n",
       "    </tr>\n",
       "    <tr>\n",
       "      <th>5</th>\n",
       "      <td>6.92</td>\n",
       "      <td>76.31%</td>\n",
       "      <td>0.82</td>\n",
       "      <td>8.91%</td>\n",
       "      <td>3.66%</td>\n",
       "      <td>11.80%</td>\n",
       "      <td>2013-07-16</td>\n",
       "    </tr>\n",
       "    <tr>\n",
       "      <th>6</th>\n",
       "      <td>7.48</td>\n",
       "      <td>38.52%</td>\n",
       "      <td>0.93</td>\n",
       "      <td>5.14%</td>\n",
       "      <td>4.02%</td>\n",
       "      <td>12.44%</td>\n",
       "      <td>2013-12-19</td>\n",
       "    </tr>\n",
       "    <tr>\n",
       "      <th>7</th>\n",
       "      <td>7.70</td>\n",
       "      <td>37.44%</td>\n",
       "      <td>0.92</td>\n",
       "      <td>6.28%</td>\n",
       "      <td>4.39%</td>\n",
       "      <td>11.96%</td>\n",
       "      <td>2012-08-08</td>\n",
       "    </tr>\n",
       "    <tr>\n",
       "      <th>8</th>\n",
       "      <td>8.73</td>\n",
       "      <td>38.96%</td>\n",
       "      <td>1.01</td>\n",
       "      <td>10.76%</td>\n",
       "      <td>3.49%</td>\n",
       "      <td>11.54%</td>\n",
       "      <td>2009-03-17</td>\n",
       "    </tr>\n",
       "    <tr>\n",
       "      <th>9</th>\n",
       "      <td>8.95</td>\n",
       "      <td>39.99%</td>\n",
       "      <td>1.09</td>\n",
       "      <td>15.96%</td>\n",
       "      <td>3.67%</td>\n",
       "      <td>12.17%</td>\n",
       "      <td>2009-06-15</td>\n",
       "    </tr>\n",
       "    <tr>\n",
       "      <th>10</th>\n",
       "      <td>9.00</td>\n",
       "      <td>63.29%</td>\n",
       "      <td>1.05</td>\n",
       "      <td>29.53%</td>\n",
       "      <td>3.66%</td>\n",
       "      <td>11.63%</td>\n",
       "      <td>2009-06-15</td>\n",
       "    </tr>\n",
       "    <tr>\n",
       "      <th>11</th>\n",
       "      <td>9.66</td>\n",
       "      <td>79.75%</td>\n",
       "      <td>1.30</td>\n",
       "      <td>49.59%</td>\n",
       "      <td>3.04%</td>\n",
       "      <td>13.51%</td>\n",
       "      <td>2012-06-06</td>\n",
       "    </tr>\n",
       "    <tr>\n",
       "      <th>12</th>\n",
       "      <td>10.05</td>\n",
       "      <td>63.33%</td>\n",
       "      <td>1.17</td>\n",
       "      <td>38.31%</td>\n",
       "      <td>2.98%</td>\n",
       "      <td>11.61%</td>\n",
       "      <td>2009-06-15</td>\n",
       "    </tr>\n",
       "    <tr>\n",
       "      <th>13</th>\n",
       "      <td>10.19</td>\n",
       "      <td>43.44%</td>\n",
       "      <td>1.17</td>\n",
       "      <td>19.40%</td>\n",
       "      <td>2.92%</td>\n",
       "      <td>11.52%</td>\n",
       "      <td>2009-06-15</td>\n",
       "    </tr>\n",
       "    <tr>\n",
       "      <th>14</th>\n",
       "      <td>10.29</td>\n",
       "      <td>51.15%</td>\n",
       "      <td>1.16</td>\n",
       "      <td>19.73%</td>\n",
       "      <td>3.69%</td>\n",
       "      <td>11.26%</td>\n",
       "      <td>2009-06-15</td>\n",
       "    </tr>\n",
       "    <tr>\n",
       "      <th>15</th>\n",
       "      <td>11.21</td>\n",
       "      <td>51.54%</td>\n",
       "      <td>1.26</td>\n",
       "      <td>29.29%</td>\n",
       "      <td>2.67%</td>\n",
       "      <td>11.27%</td>\n",
       "      <td>2009-05-04</td>\n",
       "    </tr>\n",
       "    <tr>\n",
       "      <th>16</th>\n",
       "      <td>11.58</td>\n",
       "      <td>59.89%</td>\n",
       "      <td>1.34</td>\n",
       "      <td>38.19%</td>\n",
       "      <td>2.59%</td>\n",
       "      <td>11.54%</td>\n",
       "      <td>2009-06-15</td>\n",
       "    </tr>\n",
       "    <tr>\n",
       "      <th>17</th>\n",
       "      <td>12.20</td>\n",
       "      <td>33.25%</td>\n",
       "      <td>1.39</td>\n",
       "      <td>39.41%</td>\n",
       "      <td>2.00%</td>\n",
       "      <td>11.43%</td>\n",
       "      <td>2011-06-02</td>\n",
       "    </tr>\n",
       "    <tr>\n",
       "      <th>18</th>\n",
       "      <td>12.50</td>\n",
       "      <td>50.08%</td>\n",
       "      <td>1.41</td>\n",
       "      <td>33.55%</td>\n",
       "      <td>2.39%</td>\n",
       "      <td>11.30%</td>\n",
       "      <td>2009-06-15</td>\n",
       "    </tr>\n",
       "    <tr>\n",
       "      <th>19</th>\n",
       "      <td>16.01</td>\n",
       "      <td>36.32%</td>\n",
       "      <td>2.11</td>\n",
       "      <td>65.64%</td>\n",
       "      <td>1.74%</td>\n",
       "      <td>13.18%</td>\n",
       "      <td>2012-08-10</td>\n",
       "    </tr>\n",
       "    <tr>\n",
       "      <th>20</th>\n",
       "      <td>16.06</td>\n",
       "      <td>54.92%</td>\n",
       "      <td>2.31</td>\n",
       "      <td>63.04%</td>\n",
       "      <td>1.99%</td>\n",
       "      <td>14.35%</td>\n",
       "      <td>2009-06-15</td>\n",
       "    </tr>\n",
       "    <tr>\n",
       "      <th>21</th>\n",
       "      <td>17.14</td>\n",
       "      <td>44.67%</td>\n",
       "      <td>1.61</td>\n",
       "      <td>16.16%</td>\n",
       "      <td>1.88%</td>\n",
       "      <td>9.39%</td>\n",
       "      <td>2009-06-15</td>\n",
       "    </tr>\n",
       "    <tr>\n",
       "      <th>22</th>\n",
       "      <td>21.12</td>\n",
       "      <td>51.11%</td>\n",
       "      <td>2.72</td>\n",
       "      <td>46.68%</td>\n",
       "      <td>1.28%</td>\n",
       "      <td>12.89%</td>\n",
       "      <td>2009-06-15</td>\n",
       "    </tr>\n",
       "    <tr>\n",
       "      <th>23</th>\n",
       "      <td>21.54</td>\n",
       "      <td>60.76%</td>\n",
       "      <td>3.33</td>\n",
       "      <td>95.53%</td>\n",
       "      <td>1.86%</td>\n",
       "      <td>16.65%</td>\n",
       "      <td>2012-01-05</td>\n",
       "    </tr>\n",
       "    <tr>\n",
       "      <th>24</th>\n",
       "      <td>21.62</td>\n",
       "      <td>9.41%</td>\n",
       "      <td>2.12</td>\n",
       "      <td>15.83%</td>\n",
       "      <td>1.61%</td>\n",
       "      <td>9.82%</td>\n",
       "      <td>2012-09-25</td>\n",
       "    </tr>\n",
       "    <tr>\n",
       "      <th>25</th>\n",
       "      <td>22.69</td>\n",
       "      <td>38.67%</td>\n",
       "      <td>3.11</td>\n",
       "      <td>66.94%</td>\n",
       "      <td>1.23%</td>\n",
       "      <td>13.68%</td>\n",
       "      <td>2014-06-06</td>\n",
       "    </tr>\n",
       "    <tr>\n",
       "      <th>26</th>\n",
       "      <td>23.02</td>\n",
       "      <td>49.60%</td>\n",
       "      <td>2.40</td>\n",
       "      <td>42.48%</td>\n",
       "      <td>1.20%</td>\n",
       "      <td>10.41%</td>\n",
       "      <td>2012-08-08</td>\n",
       "    </tr>\n",
       "    <tr>\n",
       "      <th>27</th>\n",
       "      <td>23.85</td>\n",
       "      <td>8.16%</td>\n",
       "      <td>1.79</td>\n",
       "      <td>5.13%</td>\n",
       "      <td>1.23%</td>\n",
       "      <td>7.51%</td>\n",
       "      <td>2009-06-15</td>\n",
       "    </tr>\n",
       "    <tr>\n",
       "      <th>28</th>\n",
       "      <td>33.11</td>\n",
       "      <td>28.60%</td>\n",
       "      <td>3.99</td>\n",
       "      <td>33.96%</td>\n",
       "      <td>0.88%</td>\n",
       "      <td>12.05%</td>\n",
       "      <td>2012-08-10</td>\n",
       "    </tr>\n",
       "    <tr>\n",
       "      <th>29</th>\n",
       "      <td>33.70</td>\n",
       "      <td>28.33%</td>\n",
       "      <td>3.50</td>\n",
       "      <td>13.30%</td>\n",
       "      <td>0.87%</td>\n",
       "      <td>10.38%</td>\n",
       "      <td>2011-08-02</td>\n",
       "    </tr>\n",
       "    <tr>\n",
       "      <th>30</th>\n",
       "      <td>49.15</td>\n",
       "      <td>48.66%</td>\n",
       "      <td>4.39</td>\n",
       "      <td>39.48%</td>\n",
       "      <td>0.52%</td>\n",
       "      <td>8.94%</td>\n",
       "      <td>2010-06-01</td>\n",
       "    </tr>\n",
       "    <tr>\n",
       "      <th>31</th>\n",
       "      <td>63.62</td>\n",
       "      <td>22.89%</td>\n",
       "      <td>2.45</td>\n",
       "      <td>14.96%</td>\n",
       "      <td>0.35%</td>\n",
       "      <td>3.85%</td>\n",
       "      <td>2013-12-26</td>\n",
       "    </tr>\n",
       "    <tr>\n",
       "      <th>32</th>\n",
       "      <td>22.92</td>\n",
       "      <td>86.20%</td>\n",
       "      <td>3.09</td>\n",
       "      <td>86.80%</td>\n",
       "      <td>1.66%</td>\n",
       "      <td>13.64%</td>\n",
       "      <td>2012-04-04</td>\n",
       "    </tr>\n",
       "    <tr>\n",
       "      <th>33</th>\n",
       "      <td>24.94</td>\n",
       "      <td>71.92%</td>\n",
       "      <td>5.93</td>\n",
       "      <td>98.43%</td>\n",
       "      <td>0.90%</td>\n",
       "      <td>23.79%</td>\n",
       "      <td>2012-01-05</td>\n",
       "    </tr>\n",
       "    <tr>\n",
       "      <th>34</th>\n",
       "      <td>25.54</td>\n",
       "      <td>72.61%</td>\n",
       "      <td>1.97</td>\n",
       "      <td>12.57%</td>\n",
       "      <td>1.95%</td>\n",
       "      <td>7.70%</td>\n",
       "      <td>2011-08-02</td>\n",
       "    </tr>\n",
       "    <tr>\n",
       "      <th>35</th>\n",
       "      <td>30.56</td>\n",
       "      <td>82.20%</td>\n",
       "      <td>6.55</td>\n",
       "      <td>97.93%</td>\n",
       "      <td>1.32%</td>\n",
       "      <td>21.42%</td>\n",
       "      <td>2012-02-17</td>\n",
       "    </tr>\n",
       "    <tr>\n",
       "      <th>36</th>\n",
       "      <td>33.65</td>\n",
       "      <td>83.15%</td>\n",
       "      <td>1.74</td>\n",
       "      <td>34.25%</td>\n",
       "      <td>1.11%</td>\n",
       "      <td>5.19%</td>\n",
       "      <td>2013-07-15</td>\n",
       "    </tr>\n",
       "    <tr>\n",
       "      <th>37</th>\n",
       "      <td>33.78</td>\n",
       "      <td>73.64%</td>\n",
       "      <td>6.08</td>\n",
       "      <td>84.78%</td>\n",
       "      <td>1.28%</td>\n",
       "      <td>18.01%</td>\n",
       "      <td>2009-07-03</td>\n",
       "    </tr>\n",
       "    <tr>\n",
       "      <th>38</th>\n",
       "      <td>68.44</td>\n",
       "      <td>87.74%</td>\n",
       "      <td>3.34</td>\n",
       "      <td>26.76%</td>\n",
       "      <td>0.65%</td>\n",
       "      <td>4.88%</td>\n",
       "      <td>2011-08-02</td>\n",
       "    </tr>\n",
       "    <tr>\n",
       "      <th>39</th>\n",
       "      <td>72.50</td>\n",
       "      <td>95.62%</td>\n",
       "      <td>4.98</td>\n",
       "      <td>3.13%</td>\n",
       "      <td>0.08%</td>\n",
       "      <td>6.86%</td>\n",
       "      <td>2012-11-26</td>\n",
       "    </tr>\n",
       "    <tr>\n",
       "      <th>40</th>\n",
       "      <td>8.37</td>\n",
       "      <td>51.80%</td>\n",
       "      <td>0.96</td>\n",
       "      <td>50.87%</td>\n",
       "      <td>3.56%</td>\n",
       "      <td>11.50%</td>\n",
       "      <td>2015-12-14</td>\n",
       "    </tr>\n",
       "    <tr>\n",
       "      <th>41</th>\n",
       "      <td>9.81</td>\n",
       "      <td>15.20%</td>\n",
       "      <td>1.11</td>\n",
       "      <td>16.24%</td>\n",
       "      <td>3.24%</td>\n",
       "      <td>11.35%</td>\n",
       "      <td>2015-02-13</td>\n",
       "    </tr>\n",
       "    <tr>\n",
       "      <th>42</th>\n",
       "      <td>18.21</td>\n",
       "      <td>6.09%</td>\n",
       "      <td>1.45</td>\n",
       "      <td>15.23%</td>\n",
       "      <td>1.69%</td>\n",
       "      <td>7.99%</td>\n",
       "      <td>2016-02-04</td>\n",
       "    </tr>\n",
       "    <tr>\n",
       "      <th>43</th>\n",
       "      <td>21.78</td>\n",
       "      <td>27.61%</td>\n",
       "      <td>1.93</td>\n",
       "      <td>12.01%</td>\n",
       "      <td>2.36%</td>\n",
       "      <td>8.84%</td>\n",
       "      <td>2014-09-24</td>\n",
       "    </tr>\n",
       "    <tr>\n",
       "      <th>44</th>\n",
       "      <td>29.72</td>\n",
       "      <td>76.21%</td>\n",
       "      <td>7.26</td>\n",
       "      <td>90.61%</td>\n",
       "      <td>1.23%</td>\n",
       "      <td>24.44%</td>\n",
       "      <td>2015-01-21</td>\n",
       "    </tr>\n",
       "    <tr>\n",
       "      <th>45</th>\n",
       "      <td>37.95</td>\n",
       "      <td>23.73%</td>\n",
       "      <td>2.18</td>\n",
       "      <td>17.60%</td>\n",
       "      <td>1.03%</td>\n",
       "      <td>5.74%</td>\n",
       "      <td>2014-10-17</td>\n",
       "    </tr>\n",
       "    <tr>\n",
       "      <th>46</th>\n",
       "      <td>72.50</td>\n",
       "      <td>91.24%</td>\n",
       "      <td>4.98</td>\n",
       "      <td>5.14%</td>\n",
       "      <td>0.08%</td>\n",
       "      <td>6.86%</td>\n",
       "      <td>2014-12-29</td>\n",
       "    </tr>\n",
       "  </tbody>\n",
       "</table>\n",
       "</div>"
      ],
      "text/plain": [
       "        0       1     2       3      4       5           6\n",
       "0    6.91   9.98%  0.73   0.75%  4.47%  10.62%  2012-11-30\n",
       "1    8.25  26.91%  1.01  11.57%  4.07%  12.22%  2009-06-15\n",
       "2    9.23   4.72%  1.44   0.88%  2.75%  15.54%  2009-03-13\n",
       "3   10.80  25.76%  1.37  15.00%  6.10%  12.70%  2009-02-16\n",
       "4   16.87  27.52%  2.07  47.40%  1.64%  12.29%  2012-08-10\n",
       "5    6.92  76.31%  0.82   8.91%  3.66%  11.80%  2013-07-16\n",
       "6    7.48  38.52%  0.93   5.14%  4.02%  12.44%  2013-12-19\n",
       "7    7.70  37.44%  0.92   6.28%  4.39%  11.96%  2012-08-08\n",
       "8    8.73  38.96%  1.01  10.76%  3.49%  11.54%  2009-03-17\n",
       "9    8.95  39.99%  1.09  15.96%  3.67%  12.17%  2009-06-15\n",
       "10   9.00  63.29%  1.05  29.53%  3.66%  11.63%  2009-06-15\n",
       "11   9.66  79.75%  1.30  49.59%  3.04%  13.51%  2012-06-06\n",
       "12  10.05  63.33%  1.17  38.31%  2.98%  11.61%  2009-06-15\n",
       "13  10.19  43.44%  1.17  19.40%  2.92%  11.52%  2009-06-15\n",
       "14  10.29  51.15%  1.16  19.73%  3.69%  11.26%  2009-06-15\n",
       "15  11.21  51.54%  1.26  29.29%  2.67%  11.27%  2009-05-04\n",
       "16  11.58  59.89%  1.34  38.19%  2.59%  11.54%  2009-06-15\n",
       "17  12.20  33.25%  1.39  39.41%  2.00%  11.43%  2011-06-02\n",
       "18  12.50  50.08%  1.41  33.55%  2.39%  11.30%  2009-06-15\n",
       "19  16.01  36.32%  2.11  65.64%  1.74%  13.18%  2012-08-10\n",
       "20  16.06  54.92%  2.31  63.04%  1.99%  14.35%  2009-06-15\n",
       "21  17.14  44.67%  1.61  16.16%  1.88%   9.39%  2009-06-15\n",
       "22  21.12  51.11%  2.72  46.68%  1.28%  12.89%  2009-06-15\n",
       "23  21.54  60.76%  3.33  95.53%  1.86%  16.65%  2012-01-05\n",
       "24  21.62   9.41%  2.12  15.83%  1.61%   9.82%  2012-09-25\n",
       "25  22.69  38.67%  3.11  66.94%  1.23%  13.68%  2014-06-06\n",
       "26  23.02  49.60%  2.40  42.48%  1.20%  10.41%  2012-08-08\n",
       "27  23.85   8.16%  1.79   5.13%  1.23%   7.51%  2009-06-15\n",
       "28  33.11  28.60%  3.99  33.96%  0.88%  12.05%  2012-08-10\n",
       "29  33.70  28.33%  3.50  13.30%  0.87%  10.38%  2011-08-02\n",
       "30  49.15  48.66%  4.39  39.48%  0.52%   8.94%  2010-06-01\n",
       "31  63.62  22.89%  2.45  14.96%  0.35%   3.85%  2013-12-26\n",
       "32  22.92  86.20%  3.09  86.80%  1.66%  13.64%  2012-04-04\n",
       "33  24.94  71.92%  5.93  98.43%  0.90%  23.79%  2012-01-05\n",
       "34  25.54  72.61%  1.97  12.57%  1.95%   7.70%  2011-08-02\n",
       "35  30.56  82.20%  6.55  97.93%  1.32%  21.42%  2012-02-17\n",
       "36  33.65  83.15%  1.74  34.25%  1.11%   5.19%  2013-07-15\n",
       "37  33.78  73.64%  6.08  84.78%  1.28%  18.01%  2009-07-03\n",
       "38  68.44  87.74%  3.34  26.76%  0.65%   4.88%  2011-08-02\n",
       "39  72.50  95.62%  4.98   3.13%  0.08%   6.86%  2012-11-26\n",
       "40   8.37  51.80%  0.96  50.87%  3.56%  11.50%  2015-12-14\n",
       "41   9.81  15.20%  1.11  16.24%  3.24%  11.35%  2015-02-13\n",
       "42  18.21   6.09%  1.45  15.23%  1.69%   7.99%  2016-02-04\n",
       "43  21.78  27.61%  1.93  12.01%  2.36%   8.84%  2014-09-24\n",
       "44  29.72  76.21%  7.26  90.61%  1.23%  24.44%  2015-01-21\n",
       "45  37.95  23.73%  2.18  17.60%  1.03%   5.74%  2014-10-17\n",
       "46  72.50  91.24%  4.98   5.14%  0.08%   6.86%  2014-12-29"
      ]
     },
     "execution_count": 92,
     "metadata": {},
     "output_type": "execute_result"
    }
   ],
   "source": [
    "pd.DataFrame(info_table)"
   ]
  },
  {
   "cell_type": "code",
   "execution_count": null,
   "metadata": {
    "collapsed": true
   },
   "outputs": [],
   "source": []
  },
  {
   "cell_type": "code",
   "execution_count": 90,
   "metadata": {
    "collapsed": false
   },
   "outputs": [
    {
     "ename": "SyntaxError",
     "evalue": "unexpected EOF while parsing (<ipython-input-90-67742573bb27>, line 1)",
     "output_type": "error",
     "traceback": [
      "\u001b[0;36m  File \u001b[0;32m\"<ipython-input-90-67742573bb27>\"\u001b[0;36m, line \u001b[0;32m1\u001b[0m\n\u001b[0;31m    dinfo[0].find(('div', {'class':\"pe-per\"}).get_text()\u001b[0m\n\u001b[0m                                                        ^\u001b[0m\n\u001b[0;31mSyntaxError\u001b[0m\u001b[0;31m:\u001b[0m unexpected EOF while parsing\n"
     ]
    }
   ],
   "source": [
    "dinfo[0].find(('div', {'class':\"pe-per\"}).get_text()"
   ]
  },
  {
   "cell_type": "code",
   "execution_count": 79,
   "metadata": {
    "collapsed": false
   },
   "outputs": [
    {
     "data": {
      "text/plain": [
       "'6.91'"
      ]
     },
     "execution_count": 79,
     "metadata": {},
     "output_type": "execute_result"
    }
   ],
   "source": [
    "dinfo[0].find('div', {'class':'pe'}).get_text()"
   ]
  },
  {
   "cell_type": "code",
   "execution_count": 56,
   "metadata": {
    "collapsed": false
   },
   "outputs": [
    {
     "data": {
      "text/plain": [
       "'6.91'"
      ]
     },
     "execution_count": 56,
     "metadata": {},
     "output_type": "execute_result"
    }
   ],
   "source": [
    "row.find('div', {'class':'pe'}).get_text()"
   ]
  },
  {
   "cell_type": "code",
   "execution_count": null,
   "metadata": {
    "collapsed": true
   },
   "outputs": [],
   "source": []
  }
 ],
 "metadata": {
  "kernelspec": {
   "display_name": "Python 3",
   "language": "python",
   "name": "python3"
  },
  "language_info": {
   "codemirror_mode": {
    "name": "ipython",
    "version": 3
   },
   "file_extension": ".py",
   "mimetype": "text/x-python",
   "name": "python",
   "nbconvert_exporter": "python",
   "pygments_lexer": "ipython3",
   "version": "3.6.0"
  }
 },
 "nbformat": 4,
 "nbformat_minor": 2
}
